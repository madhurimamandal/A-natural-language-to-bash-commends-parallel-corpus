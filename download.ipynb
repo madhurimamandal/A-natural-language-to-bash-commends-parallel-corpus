{
 "cells": [
  {
   "cell_type": "code",
   "execution_count": 6,
   "metadata": {},
   "outputs": [],
   "source": [
    "import pandas as pd\n",
    "from stackapi import StackAPI\n",
    "from pprint import pprint\n",
    "from bs4 import BeautifulSoup\n",
    "import time\n",
    "import requests\n",
    "import html5lib\n",
    "import bs4\n",
    "import pickle\n",
    "from tqdm import tqdm\n",
    "from joblib import Parallel, delayed"
   ]
  },
  {
   "cell_type": "code",
   "execution_count": 7,
   "metadata": {},
   "outputs": [],
   "source": [
    "df1 = pd.read_csv('QueryResults apt.csv')\n",
    "df2 = pd.read_csv('QueryResults bottom 50.csv')\n",
    "df3 = pd.read_csv('QueryResults command-line.csv')\n",
    "df4 = pd.read_csv('QueryResults Scripts.csv')\n",
    "df5 = pd.read_csv('QueryResults top 50.csv')\n",
    "df6 = pd.read_csv('QueryResults bash.csv')"
   ]
  },
  {
   "cell_type": "code",
   "execution_count": 8,
   "metadata": {},
   "outputs": [],
   "source": [
    "df = pd.concat([df1, df2, df3, df4, df5, df6], ignore_index=True)"
   ]
  },
  {
   "cell_type": "code",
   "execution_count": 9,
   "metadata": {},
   "outputs": [
    {
     "data": {
      "text/plain": [
       "72351"
      ]
     },
     "execution_count": 9,
     "metadata": {},
     "output_type": "execute_result"
    }
   ],
   "source": [
    "len(df)"
   ]
  },
  {
   "cell_type": "code",
   "execution_count": 10,
   "metadata": {},
   "outputs": [],
   "source": [
    "df.drop_duplicates(subset='Id', keep='first', ignore_index=True, inplace=True)"
   ]
  },
  {
   "cell_type": "code",
   "execution_count": 11,
   "metadata": {},
   "outputs": [
    {
     "data": {
      "text/plain": [
       "57464"
      ]
     },
     "execution_count": 11,
     "metadata": {},
     "output_type": "execute_result"
    }
   ],
   "source": [
    "len(df)"
   ]
  },
  {
   "cell_type": "code",
   "execution_count": 12,
   "metadata": {},
   "outputs": [],
   "source": [
    "bash_file_codes=[]\n",
    "failed=[]"
   ]
  },
  {
   "cell_type": "code",
   "execution_count": 13,
   "metadata": {},
   "outputs": [
    {
     "name": "stderr",
     "output_type": "stream",
     "text": [
      "100%|█████████████████████████████████████████████████████████████████████████████████████████████| 4000/4000 [2:07:32<00:00,  1.91s/it]\n"
     ]
    }
   ],
   "source": [
    "for i in tqdm(range(len(df[0:4000]))):\n",
    "    try:\n",
    "        answers={}\n",
    "        codes=[]\n",
    "        i_d = df.iloc[i, 7]\n",
    "        i_d = int(i_d)\n",
    "        url = 'https://askubuntu.com/questions/'+str(i_d)\n",
    "        r = requests.get(url) \n",
    "        soup = BeautifulSoup(r.content, 'html.parser')\n",
    "        j=0\n",
    "\n",
    "        q = soup.find('div', attrs={'class':\"s-prose js-post-body\", 'itemprop':\"text\"})\n",
    "\n",
    "\n",
    "\n",
    "        for a in soup.findAll('div', attrs={'class':'answer accepted-answer'}):\n",
    "            atext = a.text\n",
    "            aid = a['id']\n",
    "            ans = {}\n",
    "            codes=[]\n",
    "            c = a.find('div', attrs={'class':\"js-vote-count grid--cell fc-black-500 fs-title grid fd-column ai-center\", 'itemprop':\"upvoteCount\"})\n",
    "\n",
    "            for b in a.findAll('div', attrs={'class':'s-prose js-post-body'}):\n",
    "                for code in b.findAll('code'):\n",
    "                    codes.append(code.text)\n",
    "\n",
    "            ans['Answer Id'] = aid\n",
    "            ans['Answer Text'] = atext\n",
    "\n",
    "            if(c.text):\n",
    "                ans['Votes'] = c.text\n",
    "            else:\n",
    "                ans['Votes'] = 0\n",
    "\n",
    "            ans['Codes'] = codes\n",
    "\n",
    "            answers['Accepted Answer'] = ans\n",
    "\n",
    "\n",
    "\n",
    "        for a in soup.findAll('div', attrs={'class':'answer'}):\n",
    "            atext = a.text\n",
    "            aid = a['id']\n",
    "            ans = {}\n",
    "            codes=[]\n",
    "            j=j+1\n",
    "            c = a.find('div', attrs={'class':\"js-vote-count grid--cell fc-black-500 fs-title grid fd-column ai-center\", 'itemprop':\"upvoteCount\"})\n",
    "\n",
    "            for b in a.findAll('div', attrs={'class':'s-prose js-post-body'}):\n",
    "                for code in b.findAll('code'):\n",
    "                    codes.append(code.text)\n",
    "\n",
    "            ans['Answer Id'] = aid\n",
    "            ans['Answer Text'] = atext\n",
    "\n",
    "            if(c.text):\n",
    "                ans['Votes'] = c.text\n",
    "            else:\n",
    "                ans['Votes'] = 0\n",
    "\n",
    "            ans['Codes'] = codes\n",
    "            answers['Answer'+str(j)] = ans\n",
    "\n",
    "            if(j>=2):\n",
    "                break\n",
    "\n",
    "        bash_file_codes.append({'Id':i_d, 'Question Body': q.text, 'Answers':answers})\n",
    "        pickle.dump(bash_file_codes, open('posts.txt', 'wb'))\n",
    "        \n",
    "    except:\n",
    "        failed.append(i)\n",
    "        pickle.dump(failed, open('failed.txt', 'wb'))\n",
    "        \n",
    "\n",
    "\n"
   ]
  },
  {
   "cell_type": "code",
   "execution_count": null,
   "metadata": {},
   "outputs": [],
   "source": []
  },
  {
   "cell_type": "code",
   "execution_count": null,
   "metadata": {},
   "outputs": [],
   "source": []
  }
 ],
 "metadata": {
  "kernelspec": {
   "display_name": "Python 3",
   "language": "python",
   "name": "python3"
  },
  "language_info": {
   "codemirror_mode": {
    "name": "ipython",
    "version": 3
   },
   "file_extension": ".py",
   "mimetype": "text/x-python",
   "name": "python",
   "nbconvert_exporter": "python",
   "pygments_lexer": "ipython3",
   "version": "3.8.3"
  }
 },
 "nbformat": 4,
 "nbformat_minor": 4
}
