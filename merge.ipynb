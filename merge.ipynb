{
 "cells": [
  {
   "cell_type": "code",
   "execution_count": 1,
   "metadata": {},
   "outputs": [],
   "source": [
    "import pickle\n",
    "import pandas as pd\n",
    "import re"
   ]
  },
  {
   "cell_type": "code",
   "execution_count": 2,
   "metadata": {},
   "outputs": [],
   "source": [
    "df1 = pd.read_csv('QueryResults apt.csv')\n",
    "df2 = pd.read_csv('QueryResults bottom 50.csv')\n",
    "df3 = pd.read_csv('QueryResults command-line.csv')\n",
    "df4 = pd.read_csv('QueryResults Scripts.csv')\n",
    "df5 = pd.read_csv('QueryResults top 50.csv')\n",
    "df6 = pd.read_csv('QueryResults bash.csv')"
   ]
  },
  {
   "cell_type": "code",
   "execution_count": 3,
   "metadata": {},
   "outputs": [],
   "source": [
    "df = pd.concat([df1, df2, df3, df4, df5, df6], ignore_index=True)"
   ]
  },
  {
   "cell_type": "code",
   "execution_count": 4,
   "metadata": {},
   "outputs": [
    {
     "data": {
      "text/plain": [
       "72351"
      ]
     },
     "execution_count": 4,
     "metadata": {},
     "output_type": "execute_result"
    }
   ],
   "source": [
    "len(df)"
   ]
  },
  {
   "cell_type": "code",
   "execution_count": 5,
   "metadata": {},
   "outputs": [],
   "source": [
    "df.drop_duplicates(subset='Id', keep='first', ignore_index=True, inplace=True)"
   ]
  },
  {
   "cell_type": "code",
   "execution_count": 6,
   "metadata": {},
   "outputs": [
    {
     "data": {
      "text/plain": [
       "57464"
      ]
     },
     "execution_count": 6,
     "metadata": {},
     "output_type": "execute_result"
    }
   ],
   "source": [
    "len(df)"
   ]
  },
  {
   "cell_type": "code",
   "execution_count": 7,
   "metadata": {},
   "outputs": [
    {
     "data": {
      "text/plain": [
       "(57464, 12)"
      ]
     },
     "execution_count": 7,
     "metadata": {},
     "output_type": "execute_result"
    }
   ],
   "source": [
    "df.shape"
   ]
  },
  {
   "cell_type": "code",
   "execution_count": 8,
   "metadata": {},
   "outputs": [
    {
     "data": {
      "text/html": [
       "<div>\n",
       "<style scoped>\n",
       "    .dataframe tbody tr th:only-of-type {\n",
       "        vertical-align: middle;\n",
       "    }\n",
       "\n",
       "    .dataframe tbody tr th {\n",
       "        vertical-align: top;\n",
       "    }\n",
       "\n",
       "    .dataframe thead th {\n",
       "        text-align: right;\n",
       "    }\n",
       "</style>\n",
       "<table border=\"1\" class=\"dataframe\">\n",
       "  <thead>\n",
       "    <tr style=\"text-align: right;\">\n",
       "      <th></th>\n",
       "      <th>Post Link</th>\n",
       "      <th>TagName</th>\n",
       "      <th>Title</th>\n",
       "      <th>AnswerCount</th>\n",
       "      <th>FavoriteCount</th>\n",
       "      <th>AcceptedAnswerId</th>\n",
       "      <th>PostTypeId</th>\n",
       "      <th>Id</th>\n",
       "      <th>CreationDate</th>\n",
       "      <th>DeletionDate</th>\n",
       "      <th>Score</th>\n",
       "      <th>ViewCount</th>\n",
       "    </tr>\n",
       "  </thead>\n",
       "  <tbody>\n",
       "    <tr>\n",
       "      <th>0</th>\n",
       "      <td>https://askubuntu.com/questions/307</td>\n",
       "      <td>apt</td>\n",
       "      <td>How can PPAs be removed?</td>\n",
       "      <td>26</td>\n",
       "      <td>459.0</td>\n",
       "      <td>310.0</td>\n",
       "      <td>1</td>\n",
       "      <td>307</td>\n",
       "      <td>29-07-2010 09:09</td>\n",
       "      <td>NaN</td>\n",
       "      <td>1361</td>\n",
       "      <td>1559164</td>\n",
       "    </tr>\n",
       "    <tr>\n",
       "      <th>1</th>\n",
       "      <td>https://askubuntu.com/questions/365</td>\n",
       "      <td>apt</td>\n",
       "      <td>Is it possible to tell what packages I've inst...</td>\n",
       "      <td>4</td>\n",
       "      <td>12.0</td>\n",
       "      <td>371.0</td>\n",
       "      <td>1</td>\n",
       "      <td>365</td>\n",
       "      <td>29-07-2010 13:06</td>\n",
       "      <td>NaN</td>\n",
       "      <td>24</td>\n",
       "      <td>1974</td>\n",
       "    </tr>\n",
       "    <tr>\n",
       "      <th>2</th>\n",
       "      <td>https://askubuntu.com/questions/519</td>\n",
       "      <td>apt</td>\n",
       "      <td>How do I write an application install shell sc...</td>\n",
       "      <td>6</td>\n",
       "      <td>26.0</td>\n",
       "      <td>520.0</td>\n",
       "      <td>1</td>\n",
       "      <td>519</td>\n",
       "      <td>30-07-2010 18:30</td>\n",
       "      <td>NaN</td>\n",
       "      <td>43</td>\n",
       "      <td>118801</td>\n",
       "    </tr>\n",
       "    <tr>\n",
       "      <th>3</th>\n",
       "      <td>https://askubuntu.com/questions/529</td>\n",
       "      <td>apt</td>\n",
       "      <td>How to set up an APT repository?</td>\n",
       "      <td>5</td>\n",
       "      <td>34.0</td>\n",
       "      <td>532.0</td>\n",
       "      <td>1</td>\n",
       "      <td>529</td>\n",
       "      <td>31-07-2010 00:33</td>\n",
       "      <td>NaN</td>\n",
       "      <td>54</td>\n",
       "      <td>66360</td>\n",
       "    </tr>\n",
       "    <tr>\n",
       "      <th>4</th>\n",
       "      <td>https://askubuntu.com/questions/737</td>\n",
       "      <td>apt</td>\n",
       "      <td>Authentication problem with my PPA</td>\n",
       "      <td>1</td>\n",
       "      <td>1.0</td>\n",
       "      <td>739.0</td>\n",
       "      <td>1</td>\n",
       "      <td>737</td>\n",
       "      <td>03-08-2010 20:07</td>\n",
       "      <td>NaN</td>\n",
       "      <td>11</td>\n",
       "      <td>1253</td>\n",
       "    </tr>\n",
       "    <tr>\n",
       "      <th>...</th>\n",
       "      <td>...</td>\n",
       "      <td>...</td>\n",
       "      <td>...</td>\n",
       "      <td>...</td>\n",
       "      <td>...</td>\n",
       "      <td>...</td>\n",
       "      <td>...</td>\n",
       "      <td>...</td>\n",
       "      <td>...</td>\n",
       "      <td>...</td>\n",
       "      <td>...</td>\n",
       "      <td>...</td>\n",
       "    </tr>\n",
       "    <tr>\n",
       "      <th>57459</th>\n",
       "      <td>https://askubuntu.com/questions/1289599</td>\n",
       "      <td>bash</td>\n",
       "      <td>SNAP leaves behind some references after remov...</td>\n",
       "      <td>1</td>\n",
       "      <td>NaN</td>\n",
       "      <td>1289951.0</td>\n",
       "      <td>1</td>\n",
       "      <td>1289599</td>\n",
       "      <td>2020-11-04 15:44:14</td>\n",
       "      <td>NaN</td>\n",
       "      <td>0</td>\n",
       "      <td>23</td>\n",
       "    </tr>\n",
       "    <tr>\n",
       "      <th>57460</th>\n",
       "      <td>https://askubuntu.com/questions/1289618</td>\n",
       "      <td>bash</td>\n",
       "      <td>Bash script for Cisco Anyconnect VPN (error pa...</td>\n",
       "      <td>1</td>\n",
       "      <td>NaN</td>\n",
       "      <td>1289619.0</td>\n",
       "      <td>1</td>\n",
       "      <td>1289618</td>\n",
       "      <td>2020-11-04 17:04:24</td>\n",
       "      <td>NaN</td>\n",
       "      <td>0</td>\n",
       "      <td>21</td>\n",
       "    </tr>\n",
       "    <tr>\n",
       "      <th>57461</th>\n",
       "      <td>https://askubuntu.com/questions/1289859</td>\n",
       "      <td>bash</td>\n",
       "      <td>bash --&gt; perl command: print only the replaced...</td>\n",
       "      <td>2</td>\n",
       "      <td>NaN</td>\n",
       "      <td>1289868.0</td>\n",
       "      <td>1</td>\n",
       "      <td>1289859</td>\n",
       "      <td>2020-11-05 14:04:15</td>\n",
       "      <td>NaN</td>\n",
       "      <td>2</td>\n",
       "      <td>102</td>\n",
       "    </tr>\n",
       "    <tr>\n",
       "      <th>57462</th>\n",
       "      <td>https://askubuntu.com/questions/1290381</td>\n",
       "      <td>bash</td>\n",
       "      <td>How to remove low abundance and less prevalent...</td>\n",
       "      <td>0</td>\n",
       "      <td>NaN</td>\n",
       "      <td>NaN</td>\n",
       "      <td>1</td>\n",
       "      <td>1290381</td>\n",
       "      <td>2020-11-07 13:30:24</td>\n",
       "      <td>NaN</td>\n",
       "      <td>0</td>\n",
       "      <td>16</td>\n",
       "    </tr>\n",
       "    <tr>\n",
       "      <th>57463</th>\n",
       "      <td>https://askubuntu.com/questions/1290503</td>\n",
       "      <td>bash</td>\n",
       "      <td>bash: cannot set terminal process group (-1): ...</td>\n",
       "      <td>0</td>\n",
       "      <td>NaN</td>\n",
       "      <td>NaN</td>\n",
       "      <td>1</td>\n",
       "      <td>1290503</td>\n",
       "      <td>2020-11-07 23:23:59</td>\n",
       "      <td>NaN</td>\n",
       "      <td>0</td>\n",
       "      <td>10</td>\n",
       "    </tr>\n",
       "  </tbody>\n",
       "</table>\n",
       "<p>57464 rows × 12 columns</p>\n",
       "</div>"
      ],
      "text/plain": [
       "                                     Post Link TagName  \\\n",
       "0          https://askubuntu.com/questions/307     apt   \n",
       "1          https://askubuntu.com/questions/365     apt   \n",
       "2          https://askubuntu.com/questions/519     apt   \n",
       "3          https://askubuntu.com/questions/529     apt   \n",
       "4          https://askubuntu.com/questions/737     apt   \n",
       "...                                        ...     ...   \n",
       "57459  https://askubuntu.com/questions/1289599    bash   \n",
       "57460  https://askubuntu.com/questions/1289618    bash   \n",
       "57461  https://askubuntu.com/questions/1289859    bash   \n",
       "57462  https://askubuntu.com/questions/1290381    bash   \n",
       "57463  https://askubuntu.com/questions/1290503    bash   \n",
       "\n",
       "                                                   Title  AnswerCount  \\\n",
       "0                               How can PPAs be removed?           26   \n",
       "1      Is it possible to tell what packages I've inst...            4   \n",
       "2      How do I write an application install shell sc...            6   \n",
       "3                       How to set up an APT repository?            5   \n",
       "4                     Authentication problem with my PPA            1   \n",
       "...                                                  ...          ...   \n",
       "57459  SNAP leaves behind some references after remov...            1   \n",
       "57460  Bash script for Cisco Anyconnect VPN (error pa...            1   \n",
       "57461  bash --> perl command: print only the replaced...            2   \n",
       "57462  How to remove low abundance and less prevalent...            0   \n",
       "57463  bash: cannot set terminal process group (-1): ...            0   \n",
       "\n",
       "       FavoriteCount  AcceptedAnswerId  PostTypeId       Id  \\\n",
       "0              459.0             310.0           1      307   \n",
       "1               12.0             371.0           1      365   \n",
       "2               26.0             520.0           1      519   \n",
       "3               34.0             532.0           1      529   \n",
       "4                1.0             739.0           1      737   \n",
       "...              ...               ...         ...      ...   \n",
       "57459            NaN         1289951.0           1  1289599   \n",
       "57460            NaN         1289619.0           1  1289618   \n",
       "57461            NaN         1289868.0           1  1289859   \n",
       "57462            NaN               NaN           1  1290381   \n",
       "57463            NaN               NaN           1  1290503   \n",
       "\n",
       "              CreationDate  DeletionDate  Score  ViewCount  \n",
       "0         29-07-2010 09:09           NaN   1361    1559164  \n",
       "1         29-07-2010 13:06           NaN     24       1974  \n",
       "2         30-07-2010 18:30           NaN     43     118801  \n",
       "3         31-07-2010 00:33           NaN     54      66360  \n",
       "4         03-08-2010 20:07           NaN     11       1253  \n",
       "...                    ...           ...    ...        ...  \n",
       "57459  2020-11-04 15:44:14           NaN      0         23  \n",
       "57460  2020-11-04 17:04:24           NaN      0         21  \n",
       "57461  2020-11-05 14:04:15           NaN      2        102  \n",
       "57462  2020-11-07 13:30:24           NaN      0         16  \n",
       "57463  2020-11-07 23:23:59           NaN      0         10  \n",
       "\n",
       "[57464 rows x 12 columns]"
      ]
     },
     "execution_count": 8,
     "metadata": {},
     "output_type": "execute_result"
    }
   ],
   "source": [
    "df"
   ]
  },
  {
   "cell_type": "code",
   "execution_count": 9,
   "metadata": {},
   "outputs": [],
   "source": [
    "id_to_index = {df.iloc[i, 7]:i for i in range(len(df))}"
   ]
  },
  {
   "cell_type": "code",
   "execution_count": 10,
   "metadata": {},
   "outputs": [],
   "source": [
    "li1 = pickle.load(open('bash_file_codes_0_1000.txt', 'rb'))\n",
    "li2 = pickle.load(open('bash_file_codes_1000_3000.txt', 'rb'))\n",
    "li3 = pickle.load(open('bash_file_codes_3000_4112.txt', 'rb'))\n",
    "li4 = pickle.load(open('bash_file_codes_4112_6000.txt', 'rb'))\n",
    "li5 = pickle.load(open('bash_file_codes_6000_9000.txt', 'rb'))\n",
    "li6 = pickle.load(open('bash_file_codes_9000_10000.txt', 'rb'))"
   ]
  },
  {
   "cell_type": "code",
   "execution_count": 11,
   "metadata": {},
   "outputs": [
    {
     "name": "stdout",
     "output_type": "stream",
     "text": [
      "1000 1999 1112 1887 2998 998\n"
     ]
    }
   ],
   "source": [
    "print(len(li1), len(li2), len(li3), len(li4), len(li5), len(li6))"
   ]
  },
  {
   "cell_type": "code",
   "execution_count": 12,
   "metadata": {},
   "outputs": [],
   "source": [
    "for j in [li2, li3, li4, li5, li6]:\n",
    "    li1.extend(j)\n",
    "\n",
    "list_10k = li1"
   ]
  },
  {
   "cell_type": "code",
   "execution_count": 13,
   "metadata": {},
   "outputs": [
    {
     "data": {
      "text/plain": [
       "9994"
      ]
     },
     "execution_count": 13,
     "metadata": {},
     "output_type": "execute_result"
    }
   ],
   "source": [
    "len(list_10k)"
   ]
  },
  {
   "cell_type": "code",
   "execution_count": 14,
   "metadata": {},
   "outputs": [
    {
     "data": {
      "text/plain": [
       "[{'Id': 307,\n",
       "  'Question Body': \"\\nI've added many PPAs using the add-apt-repository command. Is there a simple way to remove these PPAs? I've checked in /etc/apt/sources.list for the appropriate deb lines but they aren't there. \\nThis is on a server system so a command line solution would be great!\\n\",\n",
       "  'Answers': {'Accepted Answer': {'Answer Id': 'answer-310',\n",
       "    'Answer Text': '\\n\\n\\n\\n\\n1706\\n\\n\\n\\n\\n\\n\\n\\n\\n\\n\\n\\nThere are a number of options:\\n\\nUse the --remove flag, similar to how the PPA was added:\\nsudo add-apt-repository --remove ppa:whatever/ppa\\n\\n\\nYou can also remove PPAs by deleting the .list files from /etc/apt/sources.list.d directory.\\n\\nAs a safer alternative, you can install ppa-purge:\\nsudo apt-get install ppa-purge\\n\\nAnd then remove the PPA, downgrading gracefully packages it provided to packages provided by official repositories:\\nsudo ppa-purge ppa:whatever/ppa\\n\\nNote that this will uninstall packages provided by the PPA, but not those provided by the official repositories. If you want to remove them, you should tell it to apt:\\nsudo apt-get purge package_name\\n\\n\\nLast but not least, you can also disable or remove PPAs from the \"Software Sources\" section in Ubuntu Settings with a few clicks of your mouse (no terminal needed).\\n\\n\\n\\n\\n\\n\\n\\n\\nshare\\n|\\nimprove this answer\\n|\\n\\r\\n        follow\\r\\n    \\n|\\n\\n\\n\\n\\n\\nedited Jun 23 at 17:16\\n\\n\\n\\n\\n\\nJoshua Pinter\\n\\n28722 silver badges99 bronze badges\\n\\n\\n \\n\\n\\n\\r\\n        answered Jul 29 \\'10 at 9:17\\n\\n\\n\\n\\n\\nGiorgi JvaridzeGiorgi Jvaridze\\n\\n17.3k11 gold badge1313 silver badges77 bronze badges\\n\\n\\n\\n\\n\\n\\n\\n\\n\\n\\n\\n\\n\\n27\\n\\n\\n\\n\\nThis will remove the PPA from the repository list but if the package is a newer version of one in the standard repos, you have to manually downgrade the package afterwards. ppa-purge (see other answer) does that for you.\\r\\n                \\r\\n–\\xa0Marcel Stimberg\\nAug 11 \\'10 at 14:00\\n\\n\\n\\n\\n\\n\\n30\\n\\n\\n\\n\\nI get add-apt-repository: error: no such option: --remove :-/\\r\\n                \\r\\n–\\xa0Rafa\\nFeb 18 \\'13 at 14:12\\n\\n\\n\\n\\n\\n\\n7\\n\\n\\n\\n\\nit should be sudo apt-add-repository --remove ppa:repo_name/subdirectory\\r\\n                \\r\\n–\\xa0MountainX\\nJun 20 \\'13 at 23:55\\n\\n\\n\\n\\n\\n\\n7\\n\\n\\n\\n\\nSimilarly, I get add-apt-repository: error: no such option: --remove and add-apt-repository: error: no such option: -r\\r\\n                \\r\\n–\\xa0virtualxtc\\nApr 30 \\'14 at 21:54\\n\\n\\n\\n\\n\\n\\n\\n\\n\\n4\\n\\n\\n\\n\\nThe answer above should be amended with the information provided below in case the --remove flag doesn\\'t work.  Specifically, remove the entry in the /etc/apt/sources.list.d directory\\r\\n                \\r\\n–\\xa0user1816847\\nAug 12 \\'14 at 5:35\\n\\n\\n\\n\\n\\n\\n\\n\\n\\n\\n\\xa0|\\xa0\\nshow 24 more comments\\n\\n\\n\\n',\n",
       "    'Votes': '1706',\n",
       "    'Codes': ['--remove',\n",
       "     'sudo add-apt-repository --remove ppa:whatever/ppa\\n',\n",
       "     '.list',\n",
       "     '/etc/apt/sources.list.d',\n",
       "     'sudo apt-get install ppa-purge\\n',\n",
       "     'sudo ppa-purge ppa:whatever/ppa\\n',\n",
       "     'sudo apt-get purge package_name\\n']},\n",
       "   'Answer1': {'Answer Id': 'answer-310',\n",
       "    'Answer Text': '\\n\\n\\n\\n\\n1706\\n\\n\\n\\n\\n\\n\\n\\n\\n\\n\\n\\nThere are a number of options:\\n\\nUse the --remove flag, similar to how the PPA was added:\\nsudo add-apt-repository --remove ppa:whatever/ppa\\n\\n\\nYou can also remove PPAs by deleting the .list files from /etc/apt/sources.list.d directory.\\n\\nAs a safer alternative, you can install ppa-purge:\\nsudo apt-get install ppa-purge\\n\\nAnd then remove the PPA, downgrading gracefully packages it provided to packages provided by official repositories:\\nsudo ppa-purge ppa:whatever/ppa\\n\\nNote that this will uninstall packages provided by the PPA, but not those provided by the official repositories. If you want to remove them, you should tell it to apt:\\nsudo apt-get purge package_name\\n\\n\\nLast but not least, you can also disable or remove PPAs from the \"Software Sources\" section in Ubuntu Settings with a few clicks of your mouse (no terminal needed).\\n\\n\\n\\n\\n\\n\\n\\n\\nshare\\n|\\nimprove this answer\\n|\\n\\r\\n        follow\\r\\n    \\n|\\n\\n\\n\\n\\n\\nedited Jun 23 at 17:16\\n\\n\\n\\n\\n\\nJoshua Pinter\\n\\n28722 silver badges99 bronze badges\\n\\n\\n \\n\\n\\n\\r\\n        answered Jul 29 \\'10 at 9:17\\n\\n\\n\\n\\n\\nGiorgi JvaridzeGiorgi Jvaridze\\n\\n17.3k11 gold badge1313 silver badges77 bronze badges\\n\\n\\n\\n\\n\\n\\n\\n\\n\\n\\n\\n\\n\\n27\\n\\n\\n\\n\\nThis will remove the PPA from the repository list but if the package is a newer version of one in the standard repos, you have to manually downgrade the package afterwards. ppa-purge (see other answer) does that for you.\\r\\n                \\r\\n–\\xa0Marcel Stimberg\\nAug 11 \\'10 at 14:00\\n\\n\\n\\n\\n\\n\\n30\\n\\n\\n\\n\\nI get add-apt-repository: error: no such option: --remove :-/\\r\\n                \\r\\n–\\xa0Rafa\\nFeb 18 \\'13 at 14:12\\n\\n\\n\\n\\n\\n\\n7\\n\\n\\n\\n\\nit should be sudo apt-add-repository --remove ppa:repo_name/subdirectory\\r\\n                \\r\\n–\\xa0MountainX\\nJun 20 \\'13 at 23:55\\n\\n\\n\\n\\n\\n\\n7\\n\\n\\n\\n\\nSimilarly, I get add-apt-repository: error: no such option: --remove and add-apt-repository: error: no such option: -r\\r\\n                \\r\\n–\\xa0virtualxtc\\nApr 30 \\'14 at 21:54\\n\\n\\n\\n\\n\\n\\n\\n\\n\\n4\\n\\n\\n\\n\\nThe answer above should be amended with the information provided below in case the --remove flag doesn\\'t work.  Specifically, remove the entry in the /etc/apt/sources.list.d directory\\r\\n                \\r\\n–\\xa0user1816847\\nAug 12 \\'14 at 5:35\\n\\n\\n\\n\\n\\n\\n\\n\\n\\n\\n\\xa0|\\xa0\\nshow 24 more comments\\n\\n\\n\\n',\n",
       "    'Votes': '1706',\n",
       "    'Codes': ['--remove',\n",
       "     'sudo add-apt-repository --remove ppa:whatever/ppa\\n',\n",
       "     '.list',\n",
       "     '/etc/apt/sources.list.d',\n",
       "     'sudo apt-get install ppa-purge\\n',\n",
       "     'sudo ppa-purge ppa:whatever/ppa\\n',\n",
       "     'sudo apt-get purge package_name\\n']},\n",
       "   'Answer2': {'Answer Id': 'answer-173199',\n",
       "    'Answer Text': \"\\n\\n\\n\\n\\n276\\n\\n\\n\\n\\n\\n\\n\\n\\n\\n\\n\\nSimply run apt-add-repository again with the --remove option to remove a PPA added via the command-line, for example:\\nsudo apt-add-repository --remove ppa:kernel-ppa/ppa\\n\\nThen update with:\\nsudo apt-get update\\n\\n\\n\\n\\n\\n\\n\\nshare\\n|\\nimprove this answer\\n|\\n\\r\\n        follow\\r\\n    \\n|\\n\\n\\n\\n\\n\\r\\n        answered Aug 7 '12 at 23:09\\n\\n\\n\\n\\n\\nishish\\n\\n129k3535 gold badges292292 silver badges306306 bronze badges\\n\\n\\n\\n\\n\\n\\n\\n\\n\\n\\n\\n\\n\\n\\n\\n\\n\\nwill this remove that PPA permanently?\\r\\n                \\r\\n–\\xa0Chirag\\nAug 7 '12 at 23:11\\n\\n\\n\\n\\n\\n\\n1\\n\\n\\n\\n\\nYes, permanently. To use it again, you must add manually as if you were doing it for the first time.\\r\\n                \\r\\n–\\xa0ish\\nAug 7 '12 at 23:17\\n\\n\\n\\n\\n\\n\\n5\\n\\n\\n\\n\\nFor the record, the --remove/-r flag was added in 10.10. Source: askubuntu.com/a/18202/41756\\r\\n                \\r\\n–\\xa0Niels Bom\\nMar 27 '14 at 16:01\\n\\n\\n\\n\\n\\n\\n6\\n\\n\\n\\n\\nAs stated above; I'm running 13.10 and I get add-apt-repository: error: no such option: --remove\\r\\n                \\r\\n–\\xa0virtualxtc\\nApr 30 '14 at 21:56\\n\\n\\n\\n\\n\\n\\n1\\n\\n\\n\\n\\n@ClainDsilva It's because you would be stuck on a locally installed version of any packages you may have installed from the PPA. You should always use ppa-purge.\\r\\n                \\r\\n–\\xa0John Scott\\nOct 11 '15 at 22:18\\n\\n\\n\\n\\n\\n\\n\\n\\xa0|\\xa0\\nshow 5 more comments\\n\\n\\n\\n\",\n",
       "    'Votes': '276',\n",
       "    'Codes': ['--remove',\n",
       "     'sudo apt-add-repository --remove ppa:kernel-ppa/ppa\\n',\n",
       "     'sudo apt-get update\\n']}}},\n",
       " {'Id': 365,\n",
       "  'Question Body': \"\\nI've upgraded Ubuntu on my laptop all the way from 7.04 to 10.04 without ever wiping the disk. I have a sneaking suspicion that means I have a bunch of crufty packages that I don't use and that are just taking up disk. Is there any way to get a list of all the packages included that are beyond the base install?\\n\",\n",
       "  'Answers': {'Accepted Answer': {'Answer Id': 'answer-371',\n",
       "    'Answer Text': \"\\n\\n\\n\\n\\n10\\n\\n\\n\\n\\n\\n\\n\\n\\n\\n\\n\\nAfter doing a little googling I came up on this link : http://ubuntuforums.org/showthread.php?t=261366\\nBasically he uses \\ndpkg --get-selections > installed-software\\n\\nto list all the installed packages , now if you can get a list from someone who just installed ubuntu or get it from a fresh VM install and compare the list you have the packages that are not in the vanilla install.\\nAlso if you just want to remove unused packages use the janitor  ( System > Administration > Compter Janitor) :-)\\n\\n\\n\\n\\n\\n\\nshare\\n|\\nimprove this answer\\n|\\n\\r\\n        follow\\r\\n    \\n|\\n\\n\\n\\n\\n\\r\\n        answered Jul 29 '10 at 13:34\\n\\n\\n\\n\\n\\nRavi VyasRavi Vyas\\n\\n53955 silver badges55 bronze badges\\n\\n\\n\\n\\n\\n\\n\\n\\n\\n\\n\\n\\n\\n2\\n\\n\\n\\n\\nThe Computer Janitor has no longer been available since 11.10. Using it is not recommended anyway as it has a bad habit of removing important packages and breaking systems.\\r\\n                \\r\\n–\\xa0Christopher Kyle Horton\\nJan 15 '12 at 23:31\\n\\n\\n\\n\\n\\n\\nadd a comment\\n\\xa0|\\xa0\\n\\n\\n\\n\\n\",\n",
       "    'Votes': '10',\n",
       "    'Codes': ['dpkg --get-selections > installed-software\\n']},\n",
       "   'Answer1': {'Answer Id': 'answer-371',\n",
       "    'Answer Text': \"\\n\\n\\n\\n\\n10\\n\\n\\n\\n\\n\\n\\n\\n\\n\\n\\n\\nAfter doing a little googling I came up on this link : http://ubuntuforums.org/showthread.php?t=261366\\nBasically he uses \\ndpkg --get-selections > installed-software\\n\\nto list all the installed packages , now if you can get a list from someone who just installed ubuntu or get it from a fresh VM install and compare the list you have the packages that are not in the vanilla install.\\nAlso if you just want to remove unused packages use the janitor  ( System > Administration > Compter Janitor) :-)\\n\\n\\n\\n\\n\\n\\nshare\\n|\\nimprove this answer\\n|\\n\\r\\n        follow\\r\\n    \\n|\\n\\n\\n\\n\\n\\r\\n        answered Jul 29 '10 at 13:34\\n\\n\\n\\n\\n\\nRavi VyasRavi Vyas\\n\\n53955 silver badges55 bronze badges\\n\\n\\n\\n\\n\\n\\n\\n\\n\\n\\n\\n\\n\\n2\\n\\n\\n\\n\\nThe Computer Janitor has no longer been available since 11.10. Using it is not recommended anyway as it has a bad habit of removing important packages and breaking systems.\\r\\n                \\r\\n–\\xa0Christopher Kyle Horton\\nJan 15 '12 at 23:31\\n\\n\\n\\n\\n\\n\\nadd a comment\\n\\xa0|\\xa0\\n\\n\\n\\n\\n\",\n",
       "    'Votes': '10',\n",
       "    'Codes': ['dpkg --get-selections > installed-software\\n']},\n",
       "   'Answer2': {'Answer Id': 'answer-381',\n",
       "    'Answer Text': \"\\n\\n\\n\\n\\n8\\n\\n\\n\\n\\n\\n\\n\\n\\n\\n\\n\\nThe debfoster and deborphan packages are very useful for this purpose. You can do \\n$ deborphan\\n\\nto get a list of libraries that have no package depending on them. You often get extra libraries left behind after an upgrade. You can also do\\n$ deborphan -a\\n\\nto see all packages that have no other packages depending on them. Some of them you will have installed yourself, but any you don't recognise you could check the details and uninstall if they seem unnecessary.\\nMeanwhile debfoster will go through the packages and show you what packages and keeping lower level packages installed. This is a bit more dangerous if you don't know what you're doing, and has to be run as root or using sudo.\\n\\n\\n\\n\\n\\n\\nshare\\n|\\nimprove this answer\\n|\\n\\r\\n        follow\\r\\n    \\n|\\n\\n\\n\\n\\n\\r\\n        answered Jul 29 '10 at 14:03\\n\\n\\n\\n\\n\\nHamish DownerHamish Downer\\n\\n17.8k1313 gold badges6262 silver badges8989 bronze badges\\n\\n\\n\\n\\n\\n\\n\\n\\n\\n\\n\\n\\n\\n1\\n\\n\\n\\n\\ndeborphan is a very useful tool, but I would highly recommend checking each package that it gives you before removing it.\\r\\n                \\r\\n–\\xa0fouric\\nNov 4 '13 at 5:48\\n\\n\\n\\n\\n\\n\\nadd a comment\\n\\xa0|\\xa0\\n\\n\\n\\n\\n\",\n",
       "    'Votes': '8',\n",
       "    'Codes': ['$ deborphan\\n', '$ deborphan -a\\n', 'sudo']}}}]"
      ]
     },
     "execution_count": 14,
     "metadata": {},
     "output_type": "execute_result"
    }
   ],
   "source": [
    "#A LOOK AT THE NOISY DATA\n",
    "\n",
    "list_10k[0:2]"
   ]
  },
  {
   "cell_type": "code",
   "execution_count": 15,
   "metadata": {},
   "outputs": [],
   "source": [
    "#FOR NOW FILTERING OUT ONES WITHOUT ACCEPTED ANSWERS, LATER MIGHT EXTEND\n",
    "\n",
    "list_with_accepted_answers = []\n",
    "\n",
    "for i in range(len(list_10k)):\n",
    "    if('Accepted Answer' in list_10k[i]['Answers'].keys()):\n",
    "        list_with_accepted_answers.append(list_10k[i]) "
   ]
  },
  {
   "cell_type": "code",
   "execution_count": 16,
   "metadata": {},
   "outputs": [
    {
     "data": {
      "text/plain": [
       "5887"
      ]
     },
     "execution_count": 16,
     "metadata": {},
     "output_type": "execute_result"
    }
   ],
   "source": [
    "#NUMBER OF POSTS WITH ACCEPTED ANSWERS\n",
    "\n",
    "len(list_with_accepted_answers)"
   ]
  },
  {
   "cell_type": "code",
   "execution_count": 17,
   "metadata": {},
   "outputs": [],
   "source": [
    "#TAKING POSTS WITH CODES IN ANSWER 1\n",
    "\n",
    "list_with_codes_in1 = []\n",
    "for i in range(len(list_with_accepted_answers)):\n",
    "    if(len(list_with_accepted_answers[i]['Answers']['Answer1']['Codes'])!=0):\n",
    "        list_with_codes_in1.append(list_with_accepted_answers[i])\n"
   ]
  },
  {
   "cell_type": "code",
   "execution_count": 18,
   "metadata": {},
   "outputs": [],
   "source": [
    "#TAKING POSTS WITH CODES IN EITHER ANSWER 1 OR ANSWER 2\n",
    "\n",
    "list_with_codes_in2 = []\n",
    "for i in range(len(list_with_accepted_answers)):\n",
    "    if(len(list_with_accepted_answers[i]['Answers']['Answer1']['Codes'])!=0):\n",
    "        list_with_codes_in2.append(list_with_accepted_answers[i])\n",
    "    elif('Answer2' in list_with_accepted_answers[i]['Answers'].keys()):\n",
    "        if(len(list_with_accepted_answers[i]['Answers']['Answer2']['Codes'])!=0):\n",
    "            list_with_codes_in2.append(list_with_accepted_answers[i])  \n"
   ]
  },
  {
   "cell_type": "code",
   "execution_count": 19,
   "metadata": {},
   "outputs": [
    {
     "data": {
      "text/plain": [
       "4694"
      ]
     },
     "execution_count": 19,
     "metadata": {},
     "output_type": "execute_result"
    }
   ],
   "source": [
    "len(list_with_codes_in1)"
   ]
  },
  {
   "cell_type": "code",
   "execution_count": 20,
   "metadata": {},
   "outputs": [
    {
     "data": {
      "text/plain": [
       "5030"
      ]
     },
     "execution_count": 20,
     "metadata": {},
     "output_type": "execute_result"
    }
   ],
   "source": [
    "len(list_with_codes_in2)"
   ]
  },
  {
   "cell_type": "code",
   "execution_count": 21,
   "metadata": {},
   "outputs": [],
   "source": [
    "#QUESTIONS WHICH ARE NOT CLOSED\n",
    "\n",
    "\n",
    "list_not_closed = []\n",
    "\n",
    "for i in range(len(list_with_codes_in2)):\n",
    "    if(len(re.findall(r'closed \\d years ago', list_with_codes_in2[i]['Question Body'].lower()))==0):\n",
    "        list_not_closed.append(list_with_codes_in2[i])       \n",
    "        "
   ]
  },
  {
   "cell_type": "code",
   "execution_count": 22,
   "metadata": {},
   "outputs": [
    {
     "data": {
      "text/plain": [
       "4740"
      ]
     },
     "execution_count": 22,
     "metadata": {},
     "output_type": "execute_result"
    }
   ],
   "source": [
    "len(list_not_closed)"
   ]
  },
  {
   "cell_type": "code",
   "execution_count": 23,
   "metadata": {},
   "outputs": [],
   "source": [
    "#REMOVING THOSE WITH ONLY ONE WORD CODE\n",
    "\n",
    "list_real_codes = []\n",
    "\n",
    "for i in range(len(list_not_closed)):\n",
    "    f=0\n",
    "    for j in range(len(list_not_closed[i]['Answers']['Answer1']['Codes'])):\n",
    "        if(len(list_not_closed[i]['Answers']['Answer1']['Codes'][j].split(' '))>1):\n",
    "            f=1\n",
    "            break\n",
    "    \n",
    "    if('Answer2' in list_not_closed[i]['Answers'].keys()):\n",
    "        for j in range(len(list_not_closed[i]['Answers']['Answer2']['Codes'])):        \n",
    "            if(len(list_not_closed[i]['Answers']['Answer2']['Codes'][j].split(' '))>1):\n",
    "                f=1\n",
    "                break\n",
    "    if(f==1):\n",
    "        list_real_codes.append(list_not_closed[i])\n",
    "        "
   ]
  },
  {
   "cell_type": "code",
   "execution_count": 24,
   "metadata": {},
   "outputs": [
    {
     "data": {
      "text/plain": [
       "4292"
      ]
     },
     "execution_count": 24,
     "metadata": {},
     "output_type": "execute_result"
    }
   ],
   "source": [
    "len(list_real_codes)"
   ]
  },
  {
   "cell_type": "code",
   "execution_count": 25,
   "metadata": {},
   "outputs": [],
   "source": [
    "#REMOVING ONE WORD CODE ELEMENTS\n",
    "for i in range(len(list_real_codes)):\n",
    "    l = len(list_real_codes[i]['Answers']['Answer1']['Codes'])\n",
    "    nl = []\n",
    "    for j in range(l):\n",
    "        if(len(list_real_codes[i]['Answers']['Answer1']['Codes'][j].split(' '))>1):\n",
    "            nl.append(list_real_codes[i]['Answers']['Answer1']['Codes'][j])\n",
    "    list_real_codes[i]['Answers']['Answer1']['Codes'] = nl\n",
    "    list_real_codes[i]['Answers']['Accepted Answer']['Codes'] = nl\n",
    "    \n",
    "    if('Answer2' in list_real_codes[i]['Answers'].keys()):\n",
    "        l = len(list_real_codes[i]['Answers']['Answer1']['Codes'])\n",
    "        nl = []\n",
    "        for j in range(l):\n",
    "            if(len(list_real_codes[i]['Answers']['Answer1']['Codes'][j].split(' '))>1):\n",
    "                nl.append(list_real_codes[i]['Answers']['Answer1']['Codes'][j])\n",
    "        list_real_codes[i]['Answers']['Answer1']['Codes'] = nl\n",
    "        list_real_codes[i]['Answers']['Accepted Answer']['Codes'] = nl"
   ]
  },
  {
   "cell_type": "code",
   "execution_count": 26,
   "metadata": {},
   "outputs": [
    {
     "data": {
      "text/plain": [
       "2296"
      ]
     },
     "execution_count": 26,
     "metadata": {},
     "output_type": "execute_result"
    }
   ],
   "source": [
    "#NUMBER OF POSTS WITH A STANDALONE ANSWER\n",
    "\n",
    "count = 0\n",
    "for i in range(len(list_real_codes)):\n",
    "    l1 = len(list_real_codes[i]['Answers']['Answer1']['Codes'])\n",
    "   \n",
    "    if('Answer2' in list_real_codes[i]['Answers'].keys()):\n",
    "        l2 = len(list_real_codes[i]['Answers']['Answer2']['Codes'])\n",
    "    \n",
    "    if(l1==1 or l2==1):\n",
    "        count=count+1\n",
    "        \n",
    "count"
   ]
  },
  {
   "cell_type": "code",
   "execution_count": 27,
   "metadata": {},
   "outputs": [
    {
     "data": {
      "text/plain": [
       "2296"
      ]
     },
     "execution_count": 27,
     "metadata": {},
     "output_type": "execute_result"
    }
   ],
   "source": [
    "# STANDALONE POSTS\n",
    "\n",
    "standalone_posts=[]\n",
    "\n",
    "for i in range(len(list_real_codes)):\n",
    "    l1 = len(list_real_codes[i]['Answers']['Answer1']['Codes'])\n",
    "   \n",
    "    if('Answer2' in list_real_codes[i]['Answers'].keys()):\n",
    "        l2 = len(list_real_codes[i]['Answers']['Answer2']['Codes'])\n",
    "    \n",
    "    if(l1==1 or l2==1):\n",
    "        standalone_posts.append(list_real_codes[i])\n",
    "        \n",
    "len(standalone_posts)"
   ]
  },
  {
   "cell_type": "code",
   "execution_count": 30,
   "metadata": {},
   "outputs": [
    {
     "name": "stdout",
     "output_type": "stream",
     "text": [
      "2389\n",
      "Generating list of manually installed packages and querying individual packages\n",
      "comm -23 <(apt-mark showmanual | sort -u) <(gzip -dc /var/log/installer/initial-status.gz | sed -n 's/^Package: //p' | sort -u)\n",
      "\n"
     ]
    }
   ],
   "source": [
    "ind = id_to_index[standalone_posts[3]['Id']]\n",
    "\n",
    "print(standalone_posts[3]['Id'])\n",
    "print(df.iloc[ind, 2])\n",
    "\n",
    "print(standalone_posts[3]['Answers']['Answer1']['Codes'][0])"
   ]
  },
  {
   "cell_type": "code",
   "execution_count": null,
   "metadata": {},
   "outputs": [],
   "source": []
  }
 ],
 "metadata": {
  "kernelspec": {
   "display_name": "Python 3",
   "language": "python",
   "name": "python3"
  },
  "language_info": {
   "codemirror_mode": {
    "name": "ipython",
    "version": 3
   },
   "file_extension": ".py",
   "mimetype": "text/x-python",
   "name": "python",
   "nbconvert_exporter": "python",
   "pygments_lexer": "ipython3",
   "version": "3.8.3"
  }
 },
 "nbformat": 4,
 "nbformat_minor": 4
}
