{
 "cells": [
  {
   "cell_type": "code",
   "execution_count": 1,
   "metadata": {},
   "outputs": [],
   "source": [
    "import pandas as pd\n",
    "from stackapi import StackAPI\n",
    "from pprint import pprint\n",
    "from bs4 import BeautifulSoup\n",
    "import time\n",
    "import requests\n",
    "import html5lib\n",
    "import bs4\n",
    "import pickle\n",
    "from tqdm import tqdm\n",
    "from joblib import Parallel, delayed"
   ]
  },
  {
   "cell_type": "code",
   "execution_count": 2,
   "metadata": {},
   "outputs": [
    {
     "name": "stderr",
     "output_type": "stream",
     "text": [
      "C:\\Users\\madhu\\anaconda3\\lib\\site-packages\\IPython\\core\\interactiveshell.py:3071: DtypeWarning: Columns (0) have mixed types.Specify dtype option on import or set low_memory=False.\n",
      "  has_raised = await self.run_ast_nodes(code_ast.body, cell_name,\n"
     ]
    }
   ],
   "source": [
    "df = pd.read_csv('Dataframe_AskUbuntu.csv')"
   ]
  },
  {
   "cell_type": "code",
   "execution_count": 3,
   "metadata": {},
   "outputs": [
    {
     "data": {
      "text/plain": [
       "74190"
      ]
     },
     "execution_count": 3,
     "metadata": {},
     "output_type": "execute_result"
    }
   ],
   "source": [
    "len(df)"
   ]
  },
  {
   "cell_type": "code",
   "execution_count": 4,
   "metadata": {},
   "outputs": [],
   "source": [
    "bash_file_codes=pickle.load(open('posts1.txt', 'rb'))\n",
    "failed=[]"
   ]
  },
  {
   "cell_type": "code",
   "execution_count": 6,
   "metadata": {},
   "outputs": [
    {
     "name": "stderr",
     "output_type": "stream",
     "text": [
      "100%|██████████| 3190/3190 [1:43:35<00:00,  1.95s/it]\n"
     ]
    }
   ],
   "source": [
    "for i in tqdm(range(0, len(df))):\n",
    "    if(i%5000 == 0):\n",
    "        time.sleep(600)\n",
    "    try:\n",
    "        answers={}\n",
    "        codes=[]\n",
    "        i_d = df.iloc[i, 7]\n",
    "        i_d = int(i_d)\n",
    "        url = 'https://askubuntu.com/questions/'+str(i_d)\n",
    "        r = requests.get(url) \n",
    "        soup = BeautifulSoup(r.content, 'html.parser')\n",
    "        j=0\n",
    "\n",
    "        q = soup.find('div', attrs={'class':\"s-prose js-post-body\", 'itemprop':\"text\"})\n",
    "\n",
    "\n",
    "\n",
    "        for a in soup.findAll('div', attrs={'class':'answer accepted-answer'}):\n",
    "            atext = a.text\n",
    "            aid = a['id']\n",
    "            ans = {}\n",
    "            codes=[]\n",
    "            c = a.find('div', attrs={'class':\"js-vote-count grid--cell fc-black-500 fs-title grid fd-column ai-center\", 'itemprop':\"upvoteCount\"})\n",
    "\n",
    "            for b in a.findAll('div', attrs={'class':'s-prose js-post-body'}):\n",
    "                for code in b.findAll('code'):\n",
    "                    codes.append(code.text)\n",
    "\n",
    "            ans['Answer Id'] = aid\n",
    "            ans['Answer Text'] = atext\n",
    "\n",
    "            if(c.text):\n",
    "                ans['Votes'] = c.text\n",
    "            else:\n",
    "                ans['Votes'] = 0\n",
    "\n",
    "            ans['Codes'] = codes\n",
    "\n",
    "            answers['Accepted Answer'] = ans\n",
    "\n",
    "\n",
    "\n",
    "        for a in soup.findAll('div', attrs={'class':'answer'}):\n",
    "            atext = a.text\n",
    "            aid = a['id']\n",
    "            ans = {}\n",
    "            codes=[]\n",
    "            j=j+1\n",
    "            c = a.find('div', attrs={'class':\"js-vote-count grid--cell fc-black-500 fs-title grid fd-column ai-center\", 'itemprop':\"upvoteCount\"})\n",
    "\n",
    "            for b in a.findAll('div', attrs={'class':'s-prose js-post-body'}):\n",
    "                for code in b.findAll('code'):\n",
    "                    codes.append(code.text)\n",
    "\n",
    "            ans['Answer Id'] = aid\n",
    "            ans['Answer Text'] = atext\n",
    "\n",
    "            if(c.text):\n",
    "                ans['Votes'] = c.text\n",
    "            else:\n",
    "                ans['Votes'] = 0\n",
    "\n",
    "            ans['Codes'] = codes\n",
    "            answers['Answer'+str(j)] = ans\n",
    "\n",
    "            if(j>=2):\n",
    "                break\n",
    "\n",
    "        bash_file_codes.append({'Id':i_d, 'Question Body': q.text, 'Answers':answers})\n",
    "        if(i%2==0):\n",
    "            pickle.dump(bash_file_codes, open('posts2.txt', 'wb'))\n",
    "        else:\n",
    "            pickle.dump(bash_file_codes, open('posts1.txt', 'wb'))\n",
    "            \n",
    "\n",
    "    except:\n",
    "        failed.append(i)\n",
    "        pickle.dump(failed, open('failed.txt', 'wb'))"
   ]
  },
  {
   "cell_type": "code",
   "execution_count": null,
   "metadata": {},
   "outputs": [],
   "source": []
  }
 ],
 "metadata": {
  "kernelspec": {
   "display_name": "Python 3",
   "language": "python",
   "name": "python3"
  },
  "language_info": {
   "codemirror_mode": {
    "name": "ipython",
    "version": 3
   },
   "file_extension": ".py",
   "mimetype": "text/x-python",
   "name": "python",
   "nbconvert_exporter": "python",
   "pygments_lexer": "ipython3",
   "version": "3.8.3"
  }
 },
 "nbformat": 4,
 "nbformat_minor": 4
}