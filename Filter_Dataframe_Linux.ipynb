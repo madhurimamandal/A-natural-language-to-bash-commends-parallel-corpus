{
 "cells": [
  {
   "cell_type": "code",
   "execution_count": 1,
   "metadata": {},
   "outputs": [],
   "source": [
    "import pickle\n",
    "import pandas as pd\n",
    "import re"
   ]
  },
  {
   "cell_type": "code",
   "execution_count": 2,
   "metadata": {},
   "outputs": [],
   "source": [
    "df=pd.read_csv('Dataframe_Linux.csv')"
   ]
  },
  {
   "cell_type": "code",
   "execution_count": 3,
   "metadata": {},
   "outputs": [],
   "source": [
    "id_to_index = {df.iloc[i, 7]:i for i in range(len(df))}"
   ]
  },
  {
   "cell_type": "code",
   "execution_count": 4,
   "metadata": {},
   "outputs": [],
   "source": [
    "list_10k = pickle.load(open('posts_from_unix.txt', 'rb'))"
   ]
  },
  {
   "cell_type": "code",
   "execution_count": 5,
   "metadata": {},
   "outputs": [
    {
     "output_type": "execute_result",
     "data": {
      "text/plain": [
       "49965"
      ]
     },
     "metadata": {},
     "execution_count": 5
    }
   ],
   "source": [
    "len(list_10k)"
   ]
  },
  {
   "cell_type": "code",
   "execution_count": 6,
   "metadata": {},
   "outputs": [],
   "source": [
    "#FOR NOW FILTERING OUT ONES WITHOUT ACCEPTED ANSWERS, LATER MIGHT EXTEND\n",
    "list_with_accepted_answers = []\n",
    "\n",
    "for i in range(len(list_10k)):\n",
    "    if('Accepted Answer' in list_10k[i]['Answers'].keys()):\n",
    "        list_with_accepted_answers.append(list_10k[i]) "
   ]
  },
  {
   "cell_type": "code",
   "execution_count": 7,
   "metadata": {},
   "outputs": [
    {
     "output_type": "execute_result",
     "data": {
      "text/plain": [
       "29515"
      ]
     },
     "metadata": {},
     "execution_count": 7
    }
   ],
   "source": [
    "#NUMBER OF POSTS WITH ACCEPTED ANSWERS\n",
    "\n",
    "len(list_with_accepted_answers)"
   ]
  },
  {
   "cell_type": "code",
   "execution_count": 8,
   "metadata": {},
   "outputs": [],
   "source": [
    "#TAKING POSTS WITH CODES IN ANSWER 1\n",
    "\n",
    "list_with_codes_in1 = []\n",
    "for i in range(len(list_with_accepted_answers)):\n",
    "    if(len(list_with_accepted_answers[i]['Answers']['Answer1']['Codes'])!=0):\n",
    "        list_with_codes_in1.append(list_with_accepted_answers[i])\n"
   ]
  },
  {
   "cell_type": "code",
   "execution_count": 9,
   "metadata": {},
   "outputs": [
    {
     "output_type": "execute_result",
     "data": {
      "text/plain": [
       "28047"
      ]
     },
     "metadata": {},
     "execution_count": 9
    }
   ],
   "source": [
    "len(list_with_codes_in1)"
   ]
  },
  {
   "cell_type": "code",
   "execution_count": 10,
   "metadata": {},
   "outputs": [],
   "source": [
    "#QUESTIONS WHICH ARE NOT CLOSED\n",
    "list_not_closed = []\n",
    "\n",
    "for i in range(len(list_with_codes_in1)):\n",
    "    if(len(re.findall(r'closed \\d years ago', list_with_codes_in1[i]['Question Body'].lower()))==0):\n",
    "        list_not_closed.append(list_with_codes_in1[i])       \n",
    "        "
   ]
  },
  {
   "cell_type": "code",
   "execution_count": 11,
   "metadata": {},
   "outputs": [
    {
     "output_type": "execute_result",
     "data": {
      "text/plain": [
       "26080"
      ]
     },
     "metadata": {},
     "execution_count": 11
    }
   ],
   "source": [
    "len(list_not_closed)"
   ]
  },
  {
   "cell_type": "code",
   "execution_count": 12,
   "metadata": {},
   "outputs": [],
   "source": [
    "#REMOVING THOSE WITH ONLY ONE WORD CODE\n",
    "\n",
    "list_real_codes = []\n",
    "\n",
    "for i in range(len(list_not_closed)):\n",
    "    f1=0\n",
    "    for j in range(len(list_not_closed[i]['Answers']['Answer1']['Codes'])):\n",
    "        if(len(list_not_closed[i]['Answers']['Answer1']['Codes'][j].split(' '))>1):\n",
    "            f1=1\n",
    "    if(f1==1):\n",
    "        list_real_codes.append(list_not_closed[i])\n",
    "        "
   ]
  },
  {
   "cell_type": "code",
   "execution_count": 13,
   "metadata": {},
   "outputs": [
    {
     "output_type": "execute_result",
     "data": {
      "text/plain": [
       "23699"
      ]
     },
     "metadata": {},
     "execution_count": 13
    }
   ],
   "source": [
    "len(list_real_codes)"
   ]
  },
  {
   "cell_type": "code",
   "execution_count": 14,
   "metadata": {},
   "outputs": [],
   "source": [
    "#REMOVING ONE WORD CODE ELEMENTS\n",
    "\n",
    "for i in range(len(list_real_codes)):\n",
    "    l = len(list_real_codes[i]['Answers']['Answer1']['Codes'])\n",
    "    nl = []\n",
    "    for j in range(l):\n",
    "        if(len(list_real_codes[i]['Answers']['Answer1']['Codes'][j].split(' '))>1):\n",
    "            nl.append(list_real_codes[i]['Answers']['Answer1']['Codes'][j])\n",
    "    list_real_codes[i]['Answers']['Answer1']['Codes'] = nl\n",
    "    list_real_codes[i]['Answers']['Accepted Answer']['Codes'] = nl  "
   ]
  },
  {
   "cell_type": "code",
   "execution_count": 15,
   "metadata": {},
   "outputs": [],
   "source": [
    "#QUESTIONS STARTING WITH HOW\n",
    "\n",
    "standalone_posts_startwith_how1 = []\n",
    "\n",
    "for i in range(len(list_real_codes)):\n",
    "    f=0\n",
    "    ind = id_to_index[list_real_codes[i]['Id']]\n",
    "    \n",
    "    title = df.iloc[ind, 2]\n",
    "        \n",
    "    if(len(re.findall(r'how', title.lower()))>0):\n",
    "        f=1\n",
    "    \n",
    "    if(len(re.findall(r'how', list_real_codes[i]['Question Body'].lower()))>0):\n",
    "        f=1\n",
    "    \n",
    "    if(len(re.findall(r'there a way', list_real_codes[i]['Question Body'].lower()))>0):\n",
    "        f=1\n",
    "    \n",
    "    if(len(re.findall(r'there a way', title.lower()))>0):\n",
    "        f=1\n",
    "    \n",
    "    if(len(re.findall(r'there are ways', list_real_codes[i]['Question Body'].lower()))>0):\n",
    "        f=1\n",
    "    \n",
    "    if(len(re.findall(r'there are ways', title.lower()))>0):\n",
    "        f=1\n",
    "    \n",
    "    if(f==1):\n",
    "        standalone_posts_startwith_how1.append(list_real_codes[i])\n",
    "      "
   ]
  },
  {
   "cell_type": "code",
   "execution_count": 16,
   "metadata": {},
   "outputs": [
    {
     "output_type": "execute_result",
     "data": {
      "text/plain": [
       "15104"
      ]
     },
     "metadata": {},
     "execution_count": 16
    }
   ],
   "source": [
    "len(standalone_posts_startwith_how1)"
   ]
  },
  {
   "cell_type": "code",
   "execution_count": 17,
   "metadata": {},
   "outputs": [],
   "source": [
    "#THINKING ABOUT ANSWER 2\n",
    "\n",
    "#TAKING POSTS WITH CODES IN ANSWER 2\n",
    "\n",
    "list_with_codes_in2 = []\n",
    "for i in range(len(list_with_accepted_answers)):\n",
    "    if('Answer2' in list_with_accepted_answers[i]['Answers'].keys()):\n",
    "        if(len(list_with_accepted_answers[i]['Answers']['Answer2']['Codes'])!=0):\n",
    "            list_with_codes_in2.append(list_with_accepted_answers[i])\n"
   ]
  },
  {
   "cell_type": "code",
   "execution_count": 18,
   "metadata": {},
   "outputs": [
    {
     "output_type": "execute_result",
     "data": {
      "text/plain": [
       "15038"
      ]
     },
     "metadata": {},
     "execution_count": 18
    }
   ],
   "source": [
    "len(list_with_codes_in2)"
   ]
  },
  {
   "cell_type": "code",
   "execution_count": 19,
   "metadata": {},
   "outputs": [],
   "source": [
    "list_not_closed2 = []\n",
    "\n",
    "for i in range(len(list_with_codes_in2)):\n",
    "    if(len(re.findall(r'closed \\d years ago', list_with_codes_in2[i]['Question Body'].lower()))==0):\n",
    "        list_not_closed2.append(list_with_codes_in2[i])  "
   ]
  },
  {
   "cell_type": "code",
   "execution_count": 20,
   "metadata": {},
   "outputs": [
    {
     "output_type": "execute_result",
     "data": {
      "text/plain": [
       "14112"
      ]
     },
     "metadata": {},
     "execution_count": 20
    }
   ],
   "source": [
    "len(list_not_closed2)"
   ]
  },
  {
   "cell_type": "code",
   "execution_count": 21,
   "metadata": {},
   "outputs": [],
   "source": [
    "#REMOVING THOSE WITH ONLY ONE WORD CODE\n",
    "\n",
    "list_real_codes2 = []\n",
    "\n",
    "for i in range(len(list_not_closed2)):\n",
    "    f1=0\n",
    "    for j in range(len(list_not_closed2[i]['Answers']['Answer2']['Codes'])):\n",
    "        if(len(list_not_closed2[i]['Answers']['Answer2']['Codes'][j].split(' '))>1):\n",
    "            f1=1\n",
    "    if(f1==1):\n",
    "        list_real_codes2.append(list_not_closed2[i])\n",
    "        "
   ]
  },
  {
   "cell_type": "code",
   "execution_count": 22,
   "metadata": {},
   "outputs": [
    {
     "output_type": "execute_result",
     "data": {
      "text/plain": [
       "12875"
      ]
     },
     "metadata": {},
     "execution_count": 22
    }
   ],
   "source": [
    "len(list_real_codes2)"
   ]
  },
  {
   "cell_type": "code",
   "execution_count": 23,
   "metadata": {},
   "outputs": [],
   "source": [
    "for i in range(len(list_real_codes2)):\n",
    "    l = len(list_real_codes2[i]['Answers']['Answer2']['Codes'])\n",
    "    nl = []\n",
    "    for j in range(l):\n",
    "        if(len(list_real_codes2[i]['Answers']['Answer2']['Codes'][j].split(' '))>1):\n",
    "            nl.append(list_real_codes2[i]['Answers']['Answer2']['Codes'][j])\n",
    "    list_real_codes2[i]['Answers']['Answer2']['Codes'] = nl\n",
    "    list_real_codes2[i]['Answers']['Accepted Answer']['Codes'] = nl  "
   ]
  },
  {
   "cell_type": "code",
   "execution_count": 24,
   "metadata": {},
   "outputs": [
    {
     "output_type": "execute_result",
     "data": {
      "text/plain": [
       "12875"
      ]
     },
     "metadata": {},
     "execution_count": 24
    }
   ],
   "source": [
    "len(list_real_codes2)"
   ]
  },
  {
   "cell_type": "code",
   "execution_count": 25,
   "metadata": {},
   "outputs": [],
   "source": [
    "#QUESTIONS STARTING WITH HOW\n",
    "\n",
    "standalone_posts_startwith_how2 = []\n",
    "\n",
    "for i in range(len(list_real_codes2)):\n",
    "    f=0\n",
    "    ind = id_to_index[list_real_codes2[i]['Id']]\n",
    "    \n",
    "    title = df.iloc[ind, 2]\n",
    "        \n",
    "    if(len(re.findall(r'how', title.lower()))>0):\n",
    "        f=1\n",
    "    \n",
    "    if(len(re.findall(r'how', list_real_codes2[i]['Question Body'].lower()))>0):\n",
    "        f=1\n",
    "    \n",
    "    if(len(re.findall(r'there a way', list_real_codes2[i]['Question Body'].lower()))>0):\n",
    "        f=1\n",
    "    \n",
    "    if(len(re.findall(r'there a way', title.lower()))>0):\n",
    "        f=1\n",
    "    \n",
    "    if(len(re.findall(r'there are ways', list_real_codes2[i]['Question Body'].lower()))>0):\n",
    "        f=1\n",
    "    \n",
    "    if(len(re.findall(r'there are ways', title.lower()))>0):\n",
    "        f=1\n",
    "    \n",
    "    if(f==1):\n",
    "        standalone_posts_startwith_how2.append(list_real_codes2[i])\n",
    "    "
   ]
  },
  {
   "cell_type": "code",
   "execution_count": 26,
   "metadata": {},
   "outputs": [
    {
     "output_type": "execute_result",
     "data": {
      "text/plain": [
       "8355"
      ]
     },
     "metadata": {},
     "execution_count": 26
    }
   ],
   "source": [
    "len(standalone_posts_startwith_how2)"
   ]
  },
  {
   "cell_type": "code",
   "execution_count": 27,
   "metadata": {},
   "outputs": [],
   "source": [
    "app = standalone_posts_startwith_how1.extend(standalone_posts_startwith_how2)"
   ]
  },
  {
   "cell_type": "code",
   "execution_count": 28,
   "metadata": {},
   "outputs": [
    {
     "output_type": "execute_result",
     "data": {
      "text/plain": [
       "23459"
      ]
     },
     "metadata": {},
     "execution_count": 28
    }
   ],
   "source": [
    "len(standalone_posts_startwith_how1)"
   ]
  },
  {
   "cell_type": "code",
   "execution_count": 29,
   "metadata": {},
   "outputs": [],
   "source": [
    "ids = {}\n",
    "\n",
    "final = []\n",
    "\n",
    "for i in range(len(standalone_posts_startwith_how1)):\n",
    "    if(standalone_posts_startwith_how1[i]['Id'] not in ids.keys()):\n",
    "        final.append(standalone_posts_startwith_how1[i])\n",
    "        ids[standalone_posts_startwith_how1[i]['Id']] = 1"
   ]
  },
  {
   "cell_type": "code",
   "execution_count": 30,
   "metadata": {},
   "outputs": [
    {
     "output_type": "execute_result",
     "data": {
      "text/plain": [
       "15662"
      ]
     },
     "metadata": {},
     "execution_count": 30
    }
   ],
   "source": [
    "len(final)"
   ]
  },
  {
   "cell_type": "code",
   "execution_count": 31,
   "metadata": {},
   "outputs": [],
   "source": [
    "pickle.dump(final, open('filtered1.txt', 'wb'))"
   ]
  }
 ],
 "metadata": {
  "kernelspec": {
   "display_name": "Python 3",
   "language": "python",
   "name": "python3"
  },
  "language_info": {
   "codemirror_mode": {
    "name": "ipython",
    "version": 3
   },
   "file_extension": ".py",
   "mimetype": "text/x-python",
   "name": "python",
   "nbconvert_exporter": "python",
   "pygments_lexer": "ipython3",
   "version": "3.8.3-final"
  }
 },
 "nbformat": 4,
 "nbformat_minor": 4
}