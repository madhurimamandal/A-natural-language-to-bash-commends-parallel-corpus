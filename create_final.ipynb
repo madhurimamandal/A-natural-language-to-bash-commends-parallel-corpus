{
 "cells": [
  {
   "cell_type": "code",
   "execution_count": 54,
   "metadata": {},
   "outputs": [],
   "source": [
    "import pandas as pd\n",
    "import pickle\n",
    "from nltk.tokenize import word_tokenize \n",
    "import nltk\n",
    "stop_words = set(nltk.corpus.stopwords.words('english'))\n",
    "import re"
   ]
  },
  {
   "cell_type": "code",
   "execution_count": 55,
   "metadata": {},
   "outputs": [],
   "source": [
    "#READING ALL FILTERED FILES\n",
    "\n",
    "list1=pickle.load(open('filtered1.txt', 'rb'))\n",
    "list2=pickle.load(open('filtered2.txt', 'rb'))"
   ]
  },
  {
   "cell_type": "code",
   "execution_count": 56,
   "metadata": {},
   "outputs": [
    {
     "output_type": "execute_result",
     "data": {
      "text/plain": [
       "7463"
      ]
     },
     "metadata": {},
     "execution_count": 56
    }
   ],
   "source": [
    "len(list1)"
   ]
  },
  {
   "cell_type": "code",
   "execution_count": 57,
   "metadata": {},
   "outputs": [
    {
     "output_type": "execute_result",
     "data": {
      "text/plain": [
       "6767"
      ]
     },
     "metadata": {},
     "execution_count": 57
    }
   ],
   "source": [
    "len(list2)"
   ]
  },
  {
   "cell_type": "code",
   "execution_count": 58,
   "metadata": {},
   "outputs": [],
   "source": [
    "#READ DATAFRAMES\n",
    "\n",
    "df1 = pd.read_csv('Dataframe_AskUbuntu.csv')\n",
    "df2 = pd.read_csv('Dataframe_Linux.csv')"
   ]
  },
  {
   "cell_type": "code",
   "execution_count": 59,
   "metadata": {},
   "outputs": [
    {
     "output_type": "execute_result",
     "data": {
      "text/plain": [
       "                             Post Link TagName                     Title  \\\n",
       "0  https://askubuntu.com/questions/307     apt  How can PPAs be removed?   \n",
       "\n",
       "   AnswerCount  FavoriteCount  AcceptedAnswerId  PostTypeId   Id  \\\n",
       "0           26          459.0             310.0           1  307   \n",
       "\n",
       "       CreationDate  DeletionDate  Score  ViewCount  \n",
       "0  29-07-2010 09:09           NaN   1361    1559164  "
      ],
      "text/html": "<div>\n<style scoped>\n    .dataframe tbody tr th:only-of-type {\n        vertical-align: middle;\n    }\n\n    .dataframe tbody tr th {\n        vertical-align: top;\n    }\n\n    .dataframe thead th {\n        text-align: right;\n    }\n</style>\n<table border=\"1\" class=\"dataframe\">\n  <thead>\n    <tr style=\"text-align: right;\">\n      <th></th>\n      <th>Post Link</th>\n      <th>TagName</th>\n      <th>Title</th>\n      <th>AnswerCount</th>\n      <th>FavoriteCount</th>\n      <th>AcceptedAnswerId</th>\n      <th>PostTypeId</th>\n      <th>Id</th>\n      <th>CreationDate</th>\n      <th>DeletionDate</th>\n      <th>Score</th>\n      <th>ViewCount</th>\n    </tr>\n  </thead>\n  <tbody>\n    <tr>\n      <th>0</th>\n      <td>https://askubuntu.com/questions/307</td>\n      <td>apt</td>\n      <td>How can PPAs be removed?</td>\n      <td>26</td>\n      <td>459.0</td>\n      <td>310.0</td>\n      <td>1</td>\n      <td>307</td>\n      <td>29-07-2010 09:09</td>\n      <td>NaN</td>\n      <td>1361</td>\n      <td>1559164</td>\n    </tr>\n  </tbody>\n</table>\n</div>"
     },
     "metadata": {},
     "execution_count": 59
    }
   ],
   "source": [
    "df1.head(1)"
   ]
  },
  {
   "cell_type": "code",
   "execution_count": 72,
   "metadata": {},
   "outputs": [],
   "source": [
    "final={'Natural_language_description':[], 'Code1':[], 'Code2':[]}"
   ]
  },
  {
   "cell_type": "code",
   "execution_count": 73,
   "metadata": {},
   "outputs": [],
   "source": [
    "id_to_index1 = {df1.Id.values[i]:i for i in range(len(df1))}\n",
    "id_to_index2 = {df2.Id.values[i]:i for i in range(len(df2))}\n",
    "id_to_desc1 = {df1.Id.values[i]:df1.Title.values[i] for i in range(len(df1))}\n",
    "id_to_desc2 = {df2.Id.values[i]:df2.Title.values[i] for i in range(len(df2))}"
   ]
  },
  {
   "cell_type": "code",
   "execution_count": 74,
   "metadata": {},
   "outputs": [],
   "source": [
    "for i in range(len(list1)):\n",
    "    final['Natural_language_description'].append(id_to_desc2[list1[i]['Id']])\n",
    "    if(len(list1[i]['Answers']['Answer1']['Codes'])==1):\n",
    "        final['Code1'].append(list1[i]['Answers']['Answer1']['Codes'][0])\n",
    "    else:\n",
    "        final['Code1'].append('None')\n",
    "\n",
    "    if('Answer2' in list1[i]['Answers'].keys()):\n",
    "        if(len(list1[i]['Answers']['Answer2']['Codes'])==1):\n",
    "            final['Code2'].append(list1[i]['Answers']['Answer2']['Codes'][0])\n",
    "        else:\n",
    "            final['Code2'].append('None')\n",
    "    else:\n",
    "        final['Code2'].append('None')"
   ]
  },
  {
   "cell_type": "code",
   "execution_count": 75,
   "metadata": {},
   "outputs": [
    {
     "output_type": "execute_result",
     "data": {
      "text/plain": [
       "3"
      ]
     },
     "metadata": {},
     "execution_count": 75
    }
   ],
   "source": [
    "len(final)"
   ]
  },
  {
   "cell_type": "code",
   "execution_count": 76,
   "metadata": {},
   "outputs": [
    {
     "output_type": "execute_result",
     "data": {
      "text/plain": [
       "7463"
      ]
     },
     "metadata": {},
     "execution_count": 76
    }
   ],
   "source": [
    "len(final['Natural_language_description'])"
   ]
  },
  {
   "cell_type": "code",
   "execution_count": 77,
   "metadata": {},
   "outputs": [],
   "source": [
    "df_temp = pd.DataFrame.from_dict(final)"
   ]
  },
  {
   "cell_type": "code",
   "execution_count": 84,
   "metadata": {},
   "outputs": [
    {
     "output_type": "execute_result",
     "data": {
      "text/plain": [
       "0"
      ]
     },
     "metadata": {},
     "execution_count": 84
    }
   ],
   "source": [
    "c=0\n",
    "for i in range(len(df_temp)):\n",
    "    if(df_temp.Code1.values[i]=='None' and df_temp.Code2.values[i]=='None'):\n",
    "        c=c+1\n",
    "c"
   ]
  },
  {
   "cell_type": "code",
   "execution_count": 81,
   "metadata": {},
   "outputs": [],
   "source": [
    "for i in range(len(list2)):\n",
    "    final['Natural_language_description'].append(id_to_desc1[list2[i]['Id']])\n",
    "    if(len(list2[i]['Answers']['Answer1']['Codes'])==1):\n",
    "        final['Code1'].append(list2[i]['Answers']['Answer1']['Codes'][0])\n",
    "    else:\n",
    "        final['Code1'].append('None')\n",
    "\n",
    "    if('Answer2' in list2[i]['Answers'].keys()):\n",
    "        if(len(list2[i]['Answers']['Answer2']['Codes'])==1):\n",
    "            final['Code2'].append(list2[i]['Answers']['Answer2']['Codes'][0])\n",
    "        else:\n",
    "            final['Code2'].append('None')\n",
    "    else:\n",
    "        final['Code2'].append('None')"
   ]
  },
  {
   "cell_type": "code",
   "execution_count": 82,
   "metadata": {},
   "outputs": [
    {
     "output_type": "execute_result",
     "data": {
      "text/plain": [
       "14230"
      ]
     },
     "metadata": {},
     "execution_count": 82
    }
   ],
   "source": [
    "len(final['Natural_language_description'])"
   ]
  },
  {
   "cell_type": "code",
   "execution_count": 85,
   "metadata": {},
   "outputs": [],
   "source": [
    "df_final = pd.DataFrame.from_dict(final)"
   ]
  },
  {
   "cell_type": "code",
   "execution_count": 87,
   "metadata": {},
   "outputs": [
    {
     "output_type": "execute_result",
     "data": {
      "text/plain": [
       "0"
      ]
     },
     "metadata": {},
     "execution_count": 87
    }
   ],
   "source": [
    "c=0\n",
    "for i in range(len(df_final)):\n",
    "    if(df_final.Code1.values[i]=='None' and df_final.Code2.values[i]=='None'):\n",
    "        c=c+1\n",
    "c"
   ]
  },
  {
   "cell_type": "code",
   "execution_count": 88,
   "metadata": {},
   "outputs": [
    {
     "output_type": "execute_result",
     "data": {
      "text/plain": [
       "14230"
      ]
     },
     "metadata": {},
     "execution_count": 88
    }
   ],
   "source": [
    "len(df_final)"
   ]
  },
  {
   "cell_type": "code",
   "execution_count": 94,
   "metadata": {},
   "outputs": [
    {
     "output_type": "execute_result",
     "data": {
      "text/plain": [
       "                            Natural_language_description  \\\n",
       "0                         using regular expression rm ls   \n",
       "1        pass list file names xargs checking file exists   \n",
       "2      run curl commands parallel using xargs inputs csv   \n",
       "3      stop xargs badly merging output multiple proce...   \n",
       "4                                  xargs grep suggestion   \n",
       "...                                                  ...   \n",
       "14225               clone user account change privileges   \n",
       "14226                        emacs doesnot work xdg open   \n",
       "14227                        change one username another   \n",
       "14228                            mean lucid karmic users   \n",
       "14229  extract arbitrary amount bytes beginning big file   \n",
       "\n",
       "                                                   Code1  \\\n",
       "0      find . -maxdepth 1 -regextype posix-extended -...   \n",
       "1      command1 |\\nxargs sh -c 'for p do [ -f \"$p\" ] ...   \n",
       "2      awk -F, '{print \"curl '\\''\" $4 \"'\\'' > '\\''\" $...   \n",
       "3      echo -n $IPs | xargs --max-args=1 -I {} --deli...   \n",
       "4      grep -v \"\\<Swap\" instruments.log | \\\\n  awk '{...   \n",
       "...                                                  ...   \n",
       "14225                                               None   \n",
       "14226                                               None   \n",
       "14227                                               None   \n",
       "14228                                               None   \n",
       "14229                                               None   \n",
       "\n",
       "                                                   Code2  \n",
       "0        rm file[1-9][1-9][1-9].txt file[1-9][1-9].txt\\n  \n",
       "1                                                   None  \n",
       "2      parallel --colsep , 'curl {4} > {1}.jpg' :::: ...  \n",
       "3                                                   None  \n",
       "4                                                   None  \n",
       "...                                                  ...  \n",
       "14225  cp --no-dereference --recursive --preserve=tim...  \n",
       "14226                              setsid xdg-open 1.pdf  \n",
       "14227                              mount -o remount,rw /  \n",
       "14228                                   lsb_release -a\\n  \n",
       "14229     dd if=big_file of=smaller_file bs=1k count=1\\n  \n",
       "\n",
       "[14230 rows x 3 columns]"
      ],
      "text/html": "<div>\n<style scoped>\n    .dataframe tbody tr th:only-of-type {\n        vertical-align: middle;\n    }\n\n    .dataframe tbody tr th {\n        vertical-align: top;\n    }\n\n    .dataframe thead th {\n        text-align: right;\n    }\n</style>\n<table border=\"1\" class=\"dataframe\">\n  <thead>\n    <tr style=\"text-align: right;\">\n      <th></th>\n      <th>Natural_language_description</th>\n      <th>Code1</th>\n      <th>Code2</th>\n    </tr>\n  </thead>\n  <tbody>\n    <tr>\n      <th>0</th>\n      <td>using regular expression rm ls</td>\n      <td>find . -maxdepth 1 -regextype posix-extended -...</td>\n      <td>rm file[1-9][1-9][1-9].txt file[1-9][1-9].txt\\n</td>\n    </tr>\n    <tr>\n      <th>1</th>\n      <td>pass list file names xargs checking file exists</td>\n      <td>command1 |\\nxargs sh -c 'for p do [ -f \"$p\" ] ...</td>\n      <td>None</td>\n    </tr>\n    <tr>\n      <th>2</th>\n      <td>run curl commands parallel using xargs inputs csv</td>\n      <td>awk -F, '{print \"curl '\\''\" $4 \"'\\'' &gt; '\\''\" $...</td>\n      <td>parallel --colsep , 'curl {4} &gt; {1}.jpg' :::: ...</td>\n    </tr>\n    <tr>\n      <th>3</th>\n      <td>stop xargs badly merging output multiple proce...</td>\n      <td>echo -n $IPs | xargs --max-args=1 -I {} --deli...</td>\n      <td>None</td>\n    </tr>\n    <tr>\n      <th>4</th>\n      <td>xargs grep suggestion</td>\n      <td>grep -v \"\\&lt;Swap\" instruments.log | \\\\n  awk '{...</td>\n      <td>None</td>\n    </tr>\n    <tr>\n      <th>...</th>\n      <td>...</td>\n      <td>...</td>\n      <td>...</td>\n    </tr>\n    <tr>\n      <th>14225</th>\n      <td>clone user account change privileges</td>\n      <td>None</td>\n      <td>cp --no-dereference --recursive --preserve=tim...</td>\n    </tr>\n    <tr>\n      <th>14226</th>\n      <td>emacs doesnot work xdg open</td>\n      <td>None</td>\n      <td>setsid xdg-open 1.pdf</td>\n    </tr>\n    <tr>\n      <th>14227</th>\n      <td>change one username another</td>\n      <td>None</td>\n      <td>mount -o remount,rw /</td>\n    </tr>\n    <tr>\n      <th>14228</th>\n      <td>mean lucid karmic users</td>\n      <td>None</td>\n      <td>lsb_release -a\\n</td>\n    </tr>\n    <tr>\n      <th>14229</th>\n      <td>extract arbitrary amount bytes beginning big file</td>\n      <td>None</td>\n      <td>dd if=big_file of=smaller_file bs=1k count=1\\n</td>\n    </tr>\n  </tbody>\n</table>\n<p>14230 rows × 3 columns</p>\n</div>"
     },
     "metadata": {},
     "execution_count": 94
    }
   ],
   "source": [
    "df_final"
   ]
  },
  {
   "cell_type": "code",
   "execution_count": 91,
   "metadata": {},
   "outputs": [],
   "source": [
    "desc = df_final.Natural_language_description.values"
   ]
  },
  {
   "cell_type": "code",
   "execution_count": 92,
   "metadata": {},
   "outputs": [],
   "source": [
    "for i in range(len(desc)):\n",
    "    l = desc[i]\n",
    "    l=l.lower()\n",
    "    l = re.sub(r'[^a-zA-Z]', \" \", l)\n",
    "    l = word_tokenize(l)\n",
    "    l=[j for j in l if not j in stop_words]\n",
    "    l = \" \".join(j for j in l)\n",
    "    desc[i]=l"
   ]
  },
  {
   "cell_type": "code",
   "execution_count": 93,
   "metadata": {},
   "outputs": [
    {
     "output_type": "execute_result",
     "data": {
      "text/plain": [
       "14230"
      ]
     },
     "metadata": {},
     "execution_count": 93
    }
   ],
   "source": [
    "len(desc)"
   ]
  },
  {
   "cell_type": "code",
   "execution_count": null,
   "metadata": {},
   "outputs": [],
   "source": [
    "df_final.to_csv('FINAL.csv', index=None)"
   ]
  }
 ],
 "metadata": {
  "kernelspec": {
   "display_name": "Python 3",
   "language": "python",
   "name": "python3"
  },
  "language_info": {
   "codemirror_mode": {
    "name": "ipython",
    "version": 3
   },
   "file_extension": ".py",
   "mimetype": "text/x-python",
   "name": "python",
   "nbconvert_exporter": "python",
   "pygments_lexer": "ipython3",
   "version": "3.8.3-final"
  }
 },
 "nbformat": 4,
 "nbformat_minor": 4
}