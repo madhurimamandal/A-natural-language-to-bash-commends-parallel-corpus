{
 "cells": [
  {
   "cell_type": "code",
   "execution_count": 1,
   "metadata": {},
   "outputs": [],
   "source": [
    "import pandas as pd\n",
    "import pickle\n",
    "from nltk.tokenize import word_tokenize \n",
    "import nltk\n",
    "stop_words = set(nltk.corpus.stopwords.words('english'))\n",
    "import re"
   ]
  },
  {
   "cell_type": "code",
   "execution_count": 2,
   "metadata": {},
   "outputs": [],
   "source": [
    "list1=pickle.load(open('filtered1.txt', 'rb'))\n",
    "list2=pickle.load(open('filtered2.txt', 'rb'))"
   ]
  },
  {
   "cell_type": "code",
   "execution_count": 3,
   "metadata": {},
   "outputs": [
    {
     "output_type": "execute_result",
     "data": {
      "text/plain": [
       "15662"
      ]
     },
     "metadata": {},
     "execution_count": 3
    }
   ],
   "source": [
    "len(list1)"
   ]
  },
  {
   "cell_type": "code",
   "execution_count": 4,
   "metadata": {},
   "outputs": [
    {
     "output_type": "execute_result",
     "data": {
      "text/plain": [
       "15843"
      ]
     },
     "metadata": {},
     "execution_count": 4
    }
   ],
   "source": [
    "len(list2)"
   ]
  },
  {
   "cell_type": "code",
   "execution_count": 5,
   "metadata": {},
   "outputs": [],
   "source": [
    "df1 = pd.read_csv('Dataframe_AskUbuntu.csv')\n",
    "df2 = pd.read_csv('Dataframe_Linux.csv')"
   ]
  },
  {
   "cell_type": "code",
   "execution_count": 6,
   "metadata": {},
   "outputs": [
    {
     "output_type": "execute_result",
     "data": {
      "text/plain": [
       "                             Post Link TagName                     Title  \\\n",
       "0  https://askubuntu.com/questions/307     apt  How can PPAs be removed?   \n",
       "\n",
       "   AnswerCount  FavoriteCount  AcceptedAnswerId  PostTypeId   Id  \\\n",
       "0           26          459.0             310.0           1  307   \n",
       "\n",
       "       CreationDate  DeletionDate  Score  ViewCount  \n",
       "0  29-07-2010 09:09           NaN   1361    1559164  "
      ],
      "text/html": "<div>\n<style scoped>\n    .dataframe tbody tr th:only-of-type {\n        vertical-align: middle;\n    }\n\n    .dataframe tbody tr th {\n        vertical-align: top;\n    }\n\n    .dataframe thead th {\n        text-align: right;\n    }\n</style>\n<table border=\"1\" class=\"dataframe\">\n  <thead>\n    <tr style=\"text-align: right;\">\n      <th></th>\n      <th>Post Link</th>\n      <th>TagName</th>\n      <th>Title</th>\n      <th>AnswerCount</th>\n      <th>FavoriteCount</th>\n      <th>AcceptedAnswerId</th>\n      <th>PostTypeId</th>\n      <th>Id</th>\n      <th>CreationDate</th>\n      <th>DeletionDate</th>\n      <th>Score</th>\n      <th>ViewCount</th>\n    </tr>\n  </thead>\n  <tbody>\n    <tr>\n      <th>0</th>\n      <td>https://askubuntu.com/questions/307</td>\n      <td>apt</td>\n      <td>How can PPAs be removed?</td>\n      <td>26</td>\n      <td>459.0</td>\n      <td>310.0</td>\n      <td>1</td>\n      <td>307</td>\n      <td>29-07-2010 09:09</td>\n      <td>NaN</td>\n      <td>1361</td>\n      <td>1559164</td>\n    </tr>\n  </tbody>\n</table>\n</div>"
     },
     "metadata": {},
     "execution_count": 6
    }
   ],
   "source": [
    "df1.head(1)"
   ]
  },
  {
   "cell_type": "code",
   "execution_count": 7,
   "metadata": {},
   "outputs": [],
   "source": [
    "#STARTING TO CREATE FINAL PARALLEL DATA\n",
    "\n",
    "final={'Natural_language_description':[], 'Code1':[], 'Code2':[]}"
   ]
  },
  {
   "cell_type": "code",
   "execution_count": 8,
   "metadata": {},
   "outputs": [],
   "source": [
    "#REQUIRED MAPPINGS BETWEEN INDEX, ID, AND NATURAL LANGUAGE DESCRIPTION\n",
    "\n",
    "id_to_index1 = {df1.Id.values[i]:i for i in range(len(df1))}\n",
    "id_to_index2 = {df2.Id.values[i]:i for i in range(len(df2))}\n",
    "id_to_desc1 = {df1.Id.values[i]:df1.Title.values[i] for i in range(len(df1))}\n",
    "id_to_desc2 = {df2.Id.values[i]:df2.Title.values[i] for i in range(len(df2))}"
   ]
  },
  {
   "cell_type": "code",
   "execution_count": 9,
   "metadata": {},
   "outputs": [],
   "source": [
    "for i in range(len(list1)):\n",
    "    final['Natural_language_description'].append(id_to_desc2[list1[i]['Id']])\n",
    "    if(len(list1[i]['Answers']['Answer1']['Codes'])>0):\n",
    "        final['Code1'].append(list1[i]['Answers']['Answer1']['Codes'])\n",
    "    else:\n",
    "        final['Code1'].append('None')\n",
    "\n",
    "    if('Answer2' in list1[i]['Answers'].keys()):\n",
    "        if(len(list1[i]['Answers']['Answer2']['Codes'])>0):\n",
    "            final['Code2'].append(list1[i]['Answers']['Answer2']['Codes'])\n",
    "        else:\n",
    "            final['Code2'].append('None')\n",
    "    else:\n",
    "        final['Code2'].append('None')"
   ]
  },
  {
   "cell_type": "code",
   "execution_count": 10,
   "metadata": {},
   "outputs": [
    {
     "output_type": "execute_result",
     "data": {
      "text/plain": [
       "3"
      ]
     },
     "metadata": {},
     "execution_count": 10
    }
   ],
   "source": [
    "len(final)"
   ]
  },
  {
   "cell_type": "code",
   "execution_count": 11,
   "metadata": {},
   "outputs": [
    {
     "output_type": "execute_result",
     "data": {
      "text/plain": [
       "15662"
      ]
     },
     "metadata": {},
     "execution_count": 11
    }
   ],
   "source": [
    "len(final['Natural_language_description'])"
   ]
  },
  {
   "cell_type": "code",
   "execution_count": 12,
   "metadata": {},
   "outputs": [],
   "source": [
    "df_temp = pd.DataFrame.from_dict(final)"
   ]
  },
  {
   "cell_type": "code",
   "execution_count": 13,
   "metadata": {},
   "outputs": [
    {
     "output_type": "execute_result",
     "data": {
      "text/plain": [
       "0"
      ]
     },
     "metadata": {},
     "execution_count": 13
    }
   ],
   "source": [
    "c=0\n",
    "for i in range(len(df_temp)):\n",
    "    if(df_temp.Code1.values[i]=='None' and df_temp.Code2.values[i]=='None'):\n",
    "        c=c+1\n",
    "c"
   ]
  },
  {
   "cell_type": "code",
   "execution_count": 16,
   "metadata": {},
   "outputs": [],
   "source": [
    "for i in range(len(list2)):\n",
    "    final['Natural_language_description'].append(id_to_desc1[list2[i]['Id']])\n",
    "    if(len(list2[i]['Answers']['Answer1']['Codes'])>0):\n",
    "        final['Code1'].append(list2[i]['Answers']['Answer1']['Codes'])\n",
    "    else:\n",
    "        final['Code1'].append('None')\n",
    "\n",
    "    if('Answer2' in list2[i]['Answers'].keys()):\n",
    "        if(len(list2[i]['Answers']['Answer2']['Codes'])>0):\n",
    "            final['Code2'].append(list2[i]['Answers']['Answer2']['Codes'])\n",
    "        else:\n",
    "            final['Code2'].append('None')\n",
    "    else:\n",
    "        final['Code2'].append('None')"
   ]
  },
  {
   "cell_type": "code",
   "execution_count": 17,
   "metadata": {},
   "outputs": [
    {
     "output_type": "execute_result",
     "data": {
      "text/plain": [
       "31505"
      ]
     },
     "metadata": {},
     "execution_count": 17
    }
   ],
   "source": [
    "len(final['Natural_language_description'])"
   ]
  },
  {
   "cell_type": "code",
   "execution_count": 18,
   "metadata": {},
   "outputs": [],
   "source": [
    "#DATASET WITH POSSIBLY MULTIPLE CODES PER NATURAL LANGUAGE DESCRIPTION\n",
    "\n",
    "df_final = pd.DataFrame.from_dict(final)"
   ]
  },
  {
   "cell_type": "code",
   "execution_count": 19,
   "metadata": {},
   "outputs": [
    {
     "output_type": "execute_result",
     "data": {
      "text/plain": [
       "0"
      ]
     },
     "metadata": {},
     "execution_count": 19
    }
   ],
   "source": [
    "c=0\n",
    "for i in range(len(df_final)):\n",
    "    if(df_final.Code1.values[i]=='None' and df_final.Code2.values[i]=='None'):\n",
    "        c=c+1\n",
    "c"
   ]
  },
  {
   "cell_type": "code",
   "execution_count": 20,
   "metadata": {},
   "outputs": [
    {
     "output_type": "execute_result",
     "data": {
      "text/plain": [
       "31505"
      ]
     },
     "metadata": {},
     "execution_count": 20
    }
   ],
   "source": [
    "len(df_final)"
   ]
  },
  {
   "cell_type": "code",
   "execution_count": 21,
   "metadata": {},
   "outputs": [
    {
     "output_type": "execute_result",
     "data": {
      "text/plain": [
       "                            Natural_language_description  \\\n",
       "0      how to use find + xargs to make symlinks to se...   \n",
       "1                 Using regular expression for rm and ls   \n",
       "2      How to pass a list of file names to xargs afte...   \n",
       "3      Run curl commands in parallel using xargs with...   \n",
       "4         How to open multiple files from `find` output?   \n",
       "...                                                  ...   \n",
       "31500  How to substitute the nth occurrence pattern i...   \n",
       "31501                  Strange output when deleting user   \n",
       "31502       what does it mean by lucid and karmic users?   \n",
       "31503  How to prevent a new user from doing anything ...   \n",
       "31504                VirtualBox booting from USB as disk   \n",
       "\n",
       "                                                   Code1  \\\n",
       "0      [mkdir -p {dirname}, # usage mklinks from to [...   \n",
       "1      [find . -maxdepth 1 -regextype posix-extended ...   \n",
       "2      [command1 |\\nxargs sh -c 'for p do [ -f \"$p\" ]...   \n",
       "3      [awk -F, '{print \"curl '\\''\" $4 \"'\\'' > '\\''\" ...   \n",
       "4      [find . -name '*.foo' -exec gedit {} +\\n, shop...   \n",
       "...                                                  ...   \n",
       "31500  [:%s/\\(.\\{-}\\zsPATTERN\\)\\{N}/REPLACE/\\n, :3s/\\...   \n",
       "31501                                               None   \n",
       "31502                                               None   \n",
       "31503                                               None   \n",
       "31504                                        [plpbt.iso]   \n",
       "\n",
       "                                                   Code2  \n",
       "0                                                   None  \n",
       "1      [rm file[1-9][1-9][1-9].txt file[1-9][1-9].txt\\n]  \n",
       "2      [existing_plain_readable_files_only() {\\n  per...  \n",
       "3      [parallel --colsep , 'curl {4} > {1}.jpg' ::::...  \n",
       "4      [for file in $(find . -name \"*.py\"); do open -...  \n",
       "...                                                  ...  \n",
       "31500            [replace with THE (y/n/a/q/l/^E/^Y)?\\n]  \n",
       "31501                  [deluser --remove-all-files USER]  \n",
       "31502                                 [lsb_release -a\\n]  \n",
       "31503  [R = 4 (read)\\nW = 2 (write)\\nX = 1 (execute)\\...  \n",
       "31504  [sudo vboxmanage internalcommands createrawvmd...  \n",
       "\n",
       "[31505 rows x 3 columns]"
      ],
      "text/html": "<div>\n<style scoped>\n    .dataframe tbody tr th:only-of-type {\n        vertical-align: middle;\n    }\n\n    .dataframe tbody tr th {\n        vertical-align: top;\n    }\n\n    .dataframe thead th {\n        text-align: right;\n    }\n</style>\n<table border=\"1\" class=\"dataframe\">\n  <thead>\n    <tr style=\"text-align: right;\">\n      <th></th>\n      <th>Natural_language_description</th>\n      <th>Code1</th>\n      <th>Code2</th>\n    </tr>\n  </thead>\n  <tbody>\n    <tr>\n      <th>0</th>\n      <td>how to use find + xargs to make symlinks to se...</td>\n      <td>[mkdir -p {dirname}, # usage mklinks from to [...</td>\n      <td>None</td>\n    </tr>\n    <tr>\n      <th>1</th>\n      <td>Using regular expression for rm and ls</td>\n      <td>[find . -maxdepth 1 -regextype posix-extended ...</td>\n      <td>[rm file[1-9][1-9][1-9].txt file[1-9][1-9].txt\\n]</td>\n    </tr>\n    <tr>\n      <th>2</th>\n      <td>How to pass a list of file names to xargs afte...</td>\n      <td>[command1 |\\nxargs sh -c 'for p do [ -f \"$p\" ]...</td>\n      <td>[existing_plain_readable_files_only() {\\n  per...</td>\n    </tr>\n    <tr>\n      <th>3</th>\n      <td>Run curl commands in parallel using xargs with...</td>\n      <td>[awk -F, '{print \"curl '\\''\" $4 \"'\\'' &gt; '\\''\" ...</td>\n      <td>[parallel --colsep , 'curl {4} &gt; {1}.jpg' ::::...</td>\n    </tr>\n    <tr>\n      <th>4</th>\n      <td>How to open multiple files from `find` output?</td>\n      <td>[find . -name '*.foo' -exec gedit {} +\\n, shop...</td>\n      <td>[for file in $(find . -name \"*.py\"); do open -...</td>\n    </tr>\n    <tr>\n      <th>...</th>\n      <td>...</td>\n      <td>...</td>\n      <td>...</td>\n    </tr>\n    <tr>\n      <th>31500</th>\n      <td>How to substitute the nth occurrence pattern i...</td>\n      <td>[:%s/\\(.\\{-}\\zsPATTERN\\)\\{N}/REPLACE/\\n, :3s/\\...</td>\n      <td>[replace with THE (y/n/a/q/l/^E/^Y)?\\n]</td>\n    </tr>\n    <tr>\n      <th>31501</th>\n      <td>Strange output when deleting user</td>\n      <td>None</td>\n      <td>[deluser --remove-all-files USER]</td>\n    </tr>\n    <tr>\n      <th>31502</th>\n      <td>what does it mean by lucid and karmic users?</td>\n      <td>None</td>\n      <td>[lsb_release -a\\n]</td>\n    </tr>\n    <tr>\n      <th>31503</th>\n      <td>How to prevent a new user from doing anything ...</td>\n      <td>None</td>\n      <td>[R = 4 (read)\\nW = 2 (write)\\nX = 1 (execute)\\...</td>\n    </tr>\n    <tr>\n      <th>31504</th>\n      <td>VirtualBox booting from USB as disk</td>\n      <td>[plpbt.iso]</td>\n      <td>[sudo vboxmanage internalcommands createrawvmd...</td>\n    </tr>\n  </tbody>\n</table>\n<p>31505 rows × 3 columns</p>\n</div>"
     },
     "metadata": {},
     "execution_count": 21
    }
   ],
   "source": [
    "df_final"
   ]
  },
  {
   "cell_type": "code",
   "execution_count": 22,
   "metadata": {},
   "outputs": [],
   "source": [
    "for i in range(len(df_final.Code1.values)):\n",
    "    l=[]\n",
    "    for j in range(len(df_final.Code1.values[i])):\n",
    "        if(len(df_final.Code1.values[i][j].split(' '))>1):\n",
    "            l.append(df_final.Code1.values[i][j])\n",
    "    if(df_final.Code1.values[i]!=None):\n",
    "        if(len(l)>0):\n",
    "            df_final.Code1.values[i] = l\n",
    "        else:\n",
    "            df_final.Code1.values[i]='None'"
   ]
  },
  {
   "cell_type": "code",
   "execution_count": 23,
   "metadata": {},
   "outputs": [],
   "source": [
    "for i in range(len(df_final.Code2.values)):\n",
    "    l=[]\n",
    "    for j in range(len(df_final.Code2.values[i])):\n",
    "        if(len(df_final.Code2.values[i][j].split(' '))>1):\n",
    "            l.append(df_final.Code2.values[i][j])\n",
    "    if(df_final.Code2.values[i]!=None):\n",
    "        if(len(l)>0):\n",
    "            df_final.Code2.values[i] = l\n",
    "        else:\n",
    "            df_final.Code2.values[i]='None'"
   ]
  },
  {
   "cell_type": "code",
   "execution_count": 24,
   "metadata": {},
   "outputs": [
    {
     "output_type": "execute_result",
     "data": {
      "text/plain": [
       "0"
      ]
     },
     "metadata": {},
     "execution_count": 24
    }
   ],
   "source": [
    "c=0\n",
    "for i in range(len(df_final)):\n",
    "    if(df_final.Code1.values[i]=='None' and df_final.Code2.values[i]=='None'):\n",
    "        c=c+1\n",
    "c"
   ]
  },
  {
   "cell_type": "code",
   "execution_count": 25,
   "metadata": {},
   "outputs": [],
   "source": [
    "desc = df_final.Natural_language_description.values"
   ]
  },
  {
   "cell_type": "code",
   "execution_count": 26,
   "metadata": {},
   "outputs": [],
   "source": [
    "#CLEANING THE NATURAL LANGUAGE TEXT\n",
    "\n",
    "\n",
    "for i in range(len(desc)):\n",
    "    l = desc[i]\n",
    "    l=l.lower()\n",
    "    l = re.sub(r'[^a-zA-Z]', \" \", l)\n",
    "    l = word_tokenize(l)\n",
    "    l=[j for j in l if not j in stop_words]\n",
    "    l = \" \".join(j for j in l)\n",
    "    desc[i]=l"
   ]
  },
  {
   "cell_type": "code",
   "execution_count": 27,
   "metadata": {},
   "outputs": [
    {
     "output_type": "execute_result",
     "data": {
      "text/plain": [
       "31505"
      ]
     },
     "metadata": {},
     "execution_count": 27
    }
   ],
   "source": [
    "len(desc)"
   ]
  },
  {
   "cell_type": "code",
   "execution_count": 28,
   "metadata": {},
   "outputs": [
    {
     "output_type": "execute_result",
     "data": {
      "text/plain": [
       "                            Natural_language_description  \\\n",
       "0      use find xargs make symlinks selected files ke...   \n",
       "1                         using regular expression rm ls   \n",
       "2        pass list file names xargs checking file exists   \n",
       "3      run curl commands parallel using xargs inputs csv   \n",
       "4                        open multiple files find output   \n",
       "...                                                  ...   \n",
       "31500        substitute nth occurrence pattern vi editor   \n",
       "31501                       strange output deleting user   \n",
       "31502                            mean lucid karmic users   \n",
       "31503                prevent new user anything dangerous   \n",
       "31504                        virtualbox booting usb disk   \n",
       "\n",
       "                                                   Code1  \\\n",
       "0      [mkdir -p {dirname}, # usage mklinks from to [...   \n",
       "1      [find . -maxdepth 1 -regextype posix-extended ...   \n",
       "2      [command1 |\\nxargs sh -c 'for p do [ -f \"$p\" ]...   \n",
       "3      [awk -F, '{print \"curl '\\''\" $4 \"'\\'' > '\\''\" ...   \n",
       "4      [find . -name '*.foo' -exec gedit {} +\\n, shop...   \n",
       "...                                                  ...   \n",
       "31500                                               None   \n",
       "31501                                               None   \n",
       "31502                                               None   \n",
       "31503                                               None   \n",
       "31504                                               None   \n",
       "\n",
       "                                                   Code2  \n",
       "0                                                   None  \n",
       "1      [rm file[1-9][1-9][1-9].txt file[1-9][1-9].txt\\n]  \n",
       "2      [existing_plain_readable_files_only() {\\n  per...  \n",
       "3      [parallel --colsep , 'curl {4} > {1}.jpg' ::::...  \n",
       "4      [for file in $(find . -name \"*.py\"); do open -...  \n",
       "...                                                  ...  \n",
       "31500            [replace with THE (y/n/a/q/l/^E/^Y)?\\n]  \n",
       "31501                  [deluser --remove-all-files USER]  \n",
       "31502                                 [lsb_release -a\\n]  \n",
       "31503  [R = 4 (read)\\nW = 2 (write)\\nX = 1 (execute)\\...  \n",
       "31504  [sudo vboxmanage internalcommands createrawvmd...  \n",
       "\n",
       "[31505 rows x 3 columns]"
      ],
      "text/html": "<div>\n<style scoped>\n    .dataframe tbody tr th:only-of-type {\n        vertical-align: middle;\n    }\n\n    .dataframe tbody tr th {\n        vertical-align: top;\n    }\n\n    .dataframe thead th {\n        text-align: right;\n    }\n</style>\n<table border=\"1\" class=\"dataframe\">\n  <thead>\n    <tr style=\"text-align: right;\">\n      <th></th>\n      <th>Natural_language_description</th>\n      <th>Code1</th>\n      <th>Code2</th>\n    </tr>\n  </thead>\n  <tbody>\n    <tr>\n      <th>0</th>\n      <td>use find xargs make symlinks selected files ke...</td>\n      <td>[mkdir -p {dirname}, # usage mklinks from to [...</td>\n      <td>None</td>\n    </tr>\n    <tr>\n      <th>1</th>\n      <td>using regular expression rm ls</td>\n      <td>[find . -maxdepth 1 -regextype posix-extended ...</td>\n      <td>[rm file[1-9][1-9][1-9].txt file[1-9][1-9].txt\\n]</td>\n    </tr>\n    <tr>\n      <th>2</th>\n      <td>pass list file names xargs checking file exists</td>\n      <td>[command1 |\\nxargs sh -c 'for p do [ -f \"$p\" ]...</td>\n      <td>[existing_plain_readable_files_only() {\\n  per...</td>\n    </tr>\n    <tr>\n      <th>3</th>\n      <td>run curl commands parallel using xargs inputs csv</td>\n      <td>[awk -F, '{print \"curl '\\''\" $4 \"'\\'' &gt; '\\''\" ...</td>\n      <td>[parallel --colsep , 'curl {4} &gt; {1}.jpg' ::::...</td>\n    </tr>\n    <tr>\n      <th>4</th>\n      <td>open multiple files find output</td>\n      <td>[find . -name '*.foo' -exec gedit {} +\\n, shop...</td>\n      <td>[for file in $(find . -name \"*.py\"); do open -...</td>\n    </tr>\n    <tr>\n      <th>...</th>\n      <td>...</td>\n      <td>...</td>\n      <td>...</td>\n    </tr>\n    <tr>\n      <th>31500</th>\n      <td>substitute nth occurrence pattern vi editor</td>\n      <td>None</td>\n      <td>[replace with THE (y/n/a/q/l/^E/^Y)?\\n]</td>\n    </tr>\n    <tr>\n      <th>31501</th>\n      <td>strange output deleting user</td>\n      <td>None</td>\n      <td>[deluser --remove-all-files USER]</td>\n    </tr>\n    <tr>\n      <th>31502</th>\n      <td>mean lucid karmic users</td>\n      <td>None</td>\n      <td>[lsb_release -a\\n]</td>\n    </tr>\n    <tr>\n      <th>31503</th>\n      <td>prevent new user anything dangerous</td>\n      <td>None</td>\n      <td>[R = 4 (read)\\nW = 2 (write)\\nX = 1 (execute)\\...</td>\n    </tr>\n    <tr>\n      <th>31504</th>\n      <td>virtualbox booting usb disk</td>\n      <td>None</td>\n      <td>[sudo vboxmanage internalcommands createrawvmd...</td>\n    </tr>\n  </tbody>\n</table>\n<p>31505 rows × 3 columns</p>\n</div>"
     },
     "metadata": {},
     "execution_count": 28
    }
   ],
   "source": [
    "df_final"
   ]
  },
  {
   "cell_type": "code",
   "execution_count": 29,
   "metadata": {},
   "outputs": [],
   "source": [
    "pickle.dump(df_final, open('Final_with_multiple_codes.txt', 'wb'))"
   ]
  }
 ],
 "metadata": {
  "kernelspec": {
   "display_name": "Python 3",
   "language": "python",
   "name": "python3"
  },
  "language_info": {
   "codemirror_mode": {
    "name": "ipython",
    "version": 3
   },
   "file_extension": ".py",
   "mimetype": "text/x-python",
   "name": "python",
   "nbconvert_exporter": "python",
   "pygments_lexer": "ipython3",
   "version": "3.8.3-final"
  }
 },
 "nbformat": 4,
 "nbformat_minor": 4
}