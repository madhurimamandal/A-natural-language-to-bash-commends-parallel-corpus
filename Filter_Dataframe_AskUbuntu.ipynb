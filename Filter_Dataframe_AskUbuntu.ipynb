{
 "cells": [
  {
   "cell_type": "code",
   "execution_count": 1,
   "metadata": {},
   "outputs": [],
   "source": [
    "import pickle\n",
    "import pandas as pd\n",
    "import re"
   ]
  },
  {
   "cell_type": "code",
   "execution_count": 2,
   "metadata": {},
   "outputs": [],
   "source": [
    "df=pd.read_csv('Dataframe_AskUbuntu.csv')"
   ]
  },
  {
   "cell_type": "code",
   "execution_count": 3,
   "metadata": {},
   "outputs": [],
   "source": [
    "id_to_index = {df.iloc[i, 7]:i for i in range(len(df))}"
   ]
  },
  {
   "cell_type": "code",
   "execution_count": 4,
   "metadata": {},
   "outputs": [],
   "source": [
    "list_10k = pickle.load(open('posts1.txt', 'rb'))"
   ]
  },
  {
   "cell_type": "code",
   "execution_count": 5,
   "metadata": {},
   "outputs": [
    {
     "output_type": "execute_result",
     "data": {
      "text/plain": [
       "72201"
      ]
     },
     "metadata": {},
     "execution_count": 5
    }
   ],
   "source": [
    "len(list_10k)"
   ]
  },
  {
   "cell_type": "code",
   "execution_count": 7,
   "metadata": {},
   "outputs": [],
   "source": [
    "#FOR NOW FILTERING OUT ONES WITHOUT ACCEPTED ANSWERS, LATER MIGHT EXTEND\n",
    "\n",
    "list_with_accepted_answers = []\n",
    "\n",
    "for i in range(len(list_10k)):\n",
    "    if('Accepted Answer' in list_10k[i]['Answers'].keys()):\n",
    "        list_with_accepted_answers.append(list_10k[i]) "
   ]
  },
  {
   "cell_type": "code",
   "execution_count": 8,
   "metadata": {},
   "outputs": [
    {
     "output_type": "execute_result",
     "data": {
      "text/plain": [
       "31837"
      ]
     },
     "metadata": {},
     "execution_count": 8
    }
   ],
   "source": [
    "#NUMBER OF POSTS WITH ACCEPTED ANSWERS\n",
    "\n",
    "len(list_with_accepted_answers)"
   ]
  },
  {
   "cell_type": "code",
   "execution_count": 9,
   "metadata": {},
   "outputs": [],
   "source": [
    "#TAKING POSTS WITH CODES IN ANSWER 1\n",
    "\n",
    "list_with_codes_in1 = []\n",
    "for i in range(len(list_with_accepted_answers)):\n",
    "    if(len(list_with_accepted_answers[i]['Answers']['Answer1']['Codes'])!=0):\n",
    "        list_with_codes_in1.append(list_with_accepted_answers[i])\n"
   ]
  },
  {
   "cell_type": "code",
   "execution_count": 10,
   "metadata": {},
   "outputs": [
    {
     "output_type": "execute_result",
     "data": {
      "text/plain": [
       "27138"
      ]
     },
     "metadata": {},
     "execution_count": 10
    }
   ],
   "source": [
    "len(list_with_codes_in1)"
   ]
  },
  {
   "cell_type": "code",
   "execution_count": 13,
   "metadata": {},
   "outputs": [],
   "source": [
    "#QUESTIONS WHICH ARE NOT CLOSED\n",
    "list_not_closed = []\n",
    "\n",
    "for i in range(len(list_with_codes_in1)):\n",
    "    if(len(re.findall(r'closed \\d years ago', list_with_codes_in1[i]['Question Body'].lower()))==0):\n",
    "        list_not_closed.append(list_with_codes_in1[i])       \n",
    "        "
   ]
  },
  {
   "cell_type": "code",
   "execution_count": 14,
   "metadata": {},
   "outputs": [
    {
     "output_type": "execute_result",
     "data": {
      "text/plain": [
       "25092"
      ]
     },
     "metadata": {},
     "execution_count": 14
    }
   ],
   "source": [
    "len(list_not_closed)"
   ]
  },
  {
   "cell_type": "code",
   "execution_count": 15,
   "metadata": {},
   "outputs": [],
   "source": [
    "#REMOVING THOSE WITH ONLY ONE WORD CODE\n",
    "\n",
    "list_real_codes = []\n",
    "\n",
    "for i in range(len(list_not_closed)):\n",
    "    f1=0\n",
    "    for j in range(len(list_not_closed[i]['Answers']['Answer1']['Codes'])):\n",
    "        if(len(list_not_closed[i]['Answers']['Answer1']['Codes'][j].split(' '))>1):\n",
    "            f1=1\n",
    "    if(f1==1):\n",
    "        list_real_codes.append(list_not_closed[i])\n",
    "        "
   ]
  },
  {
   "cell_type": "code",
   "execution_count": 16,
   "metadata": {},
   "outputs": [
    {
     "output_type": "execute_result",
     "data": {
      "text/plain": [
       "22603"
      ]
     },
     "metadata": {},
     "execution_count": 16
    }
   ],
   "source": [
    "len(list_real_codes)"
   ]
  },
  {
   "cell_type": "code",
   "execution_count": 17,
   "metadata": {},
   "outputs": [],
   "source": [
    "#REMOVING ONE WORD CODE ELEMENTS\n",
    "\n",
    "for i in range(len(list_real_codes)):\n",
    "    l = len(list_real_codes[i]['Answers']['Answer1']['Codes'])\n",
    "    nl = []\n",
    "    for j in range(l):\n",
    "        if(len(list_real_codes[i]['Answers']['Answer1']['Codes'][j].split(' '))>1):\n",
    "            nl.append(list_real_codes[i]['Answers']['Answer1']['Codes'][j])\n",
    "    list_real_codes[i]['Answers']['Answer1']['Codes'] = nl\n",
    "    list_real_codes[i]['Answers']['Accepted Answer']['Codes'] = nl  "
   ]
  },
  {
   "cell_type": "code",
   "execution_count": 19,
   "metadata": {},
   "outputs": [
    {
     "output_type": "execute_result",
     "data": {
      "text/plain": [
       "7577"
      ]
     },
     "metadata": {},
     "execution_count": 19
    }
   ],
   "source": [
    "#NUMBER OF POSTS WITH A STANDALONE ANSWER\n",
    "count = 0\n",
    "for i in range(len(list_real_codes)):\n",
    "    l1 = len(list_real_codes[i]['Answers']['Answer1']['Codes'])\n",
    "   \n",
    "    if(l1==1):\n",
    "        count=count+1\n",
    "        \n",
    "count"
   ]
  },
  {
   "cell_type": "code",
   "execution_count": 20,
   "metadata": {},
   "outputs": [
    {
     "output_type": "execute_result",
     "data": {
      "text/plain": [
       "7577"
      ]
     },
     "metadata": {},
     "execution_count": 20
    }
   ],
   "source": [
    "# STANDALONE POSTS\n",
    "\n",
    "standalone_posts=[]\n",
    "\n",
    "for i in range(len(list_real_codes)):\n",
    "    l1 = len(list_real_codes[i]['Answers']['Answer1']['Codes'])\n",
    "\n",
    "    if(l1==1):\n",
    "        standalone_posts.append(list_real_codes[i])\n",
    "        \n",
    "len(standalone_posts)"
   ]
  },
  {
   "cell_type": "code",
   "execution_count": 27,
   "metadata": {},
   "outputs": [],
   "source": [
    "#QUESTIONS STARTING WITH HOW\n",
    "\n",
    "standalone_posts_startwith_how1 = []\n",
    "\n",
    "for i in range(len(standalone_posts)):\n",
    "    f=0\n",
    "    ind = id_to_index[standalone_posts[i]['Id']]\n",
    "    \n",
    "    title = df.iloc[ind, 2]\n",
    "        \n",
    "    if(len(re.findall(r'how', title.lower()))>0):\n",
    "        f=1\n",
    "    \n",
    "    if(len(re.findall(r'how', standalone_posts[i]['Question Body'].lower()))>0):\n",
    "        f=1\n",
    "    \n",
    "    if(len(re.findall(r'there a way', standalone_posts[i]['Question Body'].lower()))>0):\n",
    "        f=1\n",
    "    \n",
    "    if(len(re.findall(r'there a way', title.lower()))>0):\n",
    "        f=1\n",
    "    \n",
    "    if(len(re.findall(r'there are ways', standalone_posts[i]['Question Body'].lower()))>0):\n",
    "        f=1\n",
    "    \n",
    "    if(len(re.findall(r'there are ways', title.lower()))>0):\n",
    "        f=1\n",
    "    \n",
    "    if(f==1):\n",
    "        standalone_posts_startwith_how1.append(standalone_posts[i])\n",
    "      "
   ]
  },
  {
   "cell_type": "code",
   "execution_count": 28,
   "metadata": {},
   "outputs": [
    {
     "output_type": "execute_result",
     "data": {
      "text/plain": [
       "4904"
      ]
     },
     "metadata": {},
     "execution_count": 28
    }
   ],
   "source": [
    "len(standalone_posts_startwith_how1)"
   ]
  },
  {
   "cell_type": "code",
   "execution_count": 29,
   "metadata": {},
   "outputs": [],
   "source": [
    "#THINKING ABOUT ANSWER 2\n",
    "\n",
    "#TAKING POSTS WITH CODES IN ANSWER 2\n",
    "\n",
    "list_with_codes_in2 = []\n",
    "for i in range(len(list_with_accepted_answers)):\n",
    "    if('Answer2' in list_with_accepted_answers[i]['Answers'].keys()):\n",
    "        if(len(list_with_accepted_answers[i]['Answers']['Answer2']['Codes'])!=0):\n",
    "            list_with_codes_in2.append(list_with_accepted_answers[i])\n"
   ]
  },
  {
   "cell_type": "code",
   "execution_count": 30,
   "metadata": {},
   "outputs": [
    {
     "output_type": "execute_result",
     "data": {
      "text/plain": [
       "11791"
      ]
     },
     "metadata": {},
     "execution_count": 30
    }
   ],
   "source": [
    "len(list_with_codes_in2)"
   ]
  },
  {
   "cell_type": "code",
   "execution_count": 31,
   "metadata": {},
   "outputs": [],
   "source": [
    "list_not_closed2 = []\n",
    "\n",
    "for i in range(len(list_with_codes_in2)):\n",
    "    if(len(re.findall(r'closed \\d years ago', list_with_codes_in2[i]['Question Body'].lower()))==0):\n",
    "        list_not_closed2.append(list_with_codes_in2[i])  "
   ]
  },
  {
   "cell_type": "code",
   "execution_count": 32,
   "metadata": {},
   "outputs": [
    {
     "output_type": "execute_result",
     "data": {
      "text/plain": [
       "11002"
      ]
     },
     "metadata": {},
     "execution_count": 32
    }
   ],
   "source": [
    "len(list_not_closed2)"
   ]
  },
  {
   "cell_type": "code",
   "execution_count": 47,
   "metadata": {},
   "outputs": [],
   "source": [
    "#REMOVING THOSE WITH ONLY ONE WORD CODE\n",
    "\n",
    "list_real_codes2 = []\n",
    "\n",
    "for i in range(len(list_not_closed2)):\n",
    "    f1=0\n",
    "    for j in range(len(list_not_closed2[i]['Answers']['Answer2']['Codes'])):\n",
    "        if(len(list_not_closed2[i]['Answers']['Answer2']['Codes'][j].split(' '))>1):\n",
    "            f1=1\n",
    "    if(f1==1):\n",
    "        list_real_codes2.append(list_not_closed2[i])\n",
    "        "
   ]
  },
  {
   "cell_type": "code",
   "execution_count": 48,
   "metadata": {},
   "outputs": [
    {
     "output_type": "execute_result",
     "data": {
      "text/plain": [
       "9896"
      ]
     },
     "metadata": {},
     "execution_count": 48
    }
   ],
   "source": [
    "len(list_real_codes2)"
   ]
  },
  {
   "cell_type": "code",
   "execution_count": 49,
   "metadata": {},
   "outputs": [],
   "source": [
    "for i in range(len(list_real_codes2)):\n",
    "    l = len(list_real_codes2[i]['Answers']['Answer2']['Codes'])\n",
    "    nl = []\n",
    "    for j in range(l):\n",
    "        if(len(list_real_codes2[i]['Answers']['Answer2']['Codes'][j].split(' '))>1):\n",
    "            nl.append(list_real_codes2[i]['Answers']['Answer2']['Codes'][j])\n",
    "    list_real_codes2[i]['Answers']['Answer2']['Codes'] = nl\n",
    "    list_real_codes2[i]['Answers']['Accepted Answer']['Codes'] = nl  "
   ]
  },
  {
   "cell_type": "code",
   "execution_count": 50,
   "metadata": {},
   "outputs": [
    {
     "output_type": "execute_result",
     "data": {
      "text/plain": [
       "9896"
      ]
     },
     "metadata": {},
     "execution_count": 50
    }
   ],
   "source": [
    "len(list_real_codes2)"
   ]
  },
  {
   "cell_type": "code",
   "execution_count": 52,
   "metadata": {},
   "outputs": [
    {
     "output_type": "execute_result",
     "data": {
      "text/plain": [
       "3894"
      ]
     },
     "metadata": {},
     "execution_count": 52
    }
   ],
   "source": [
    "# STANDALONE POSTS\n",
    "\n",
    "standalone_posts2=[]\n",
    "\n",
    "for i in range(len(list_real_codes2)):\n",
    "    l1 = len(list_real_codes2[i]['Answers']['Answer2']['Codes'])\n",
    "\n",
    "    if(l1==1):\n",
    "        standalone_posts2.append(list_real_codes2[i])\n",
    "        \n",
    "len(standalone_posts2)"
   ]
  },
  {
   "cell_type": "code",
   "execution_count": 53,
   "metadata": {},
   "outputs": [],
   "source": [
    "#QUESTIONS STARTING WITH HOW\n",
    "\n",
    "standalone_posts_startwith_how2 = []\n",
    "\n",
    "for i in range(len(standalone_posts2)):\n",
    "    f=0\n",
    "    ind = id_to_index[standalone_posts2[i]['Id']]\n",
    "    \n",
    "    title = df.iloc[ind, 2]\n",
    "        \n",
    "    if(len(re.findall(r'how', title.lower()))>0):\n",
    "        f=1\n",
    "    \n",
    "    if(len(re.findall(r'how', standalone_posts2[i]['Question Body'].lower()))>0):\n",
    "        f=1\n",
    "    \n",
    "    if(len(re.findall(r'there a way', standalone_posts2[i]['Question Body'].lower()))>0):\n",
    "        f=1\n",
    "    \n",
    "    if(len(re.findall(r'there a way', title.lower()))>0):\n",
    "        f=1\n",
    "    \n",
    "    if(len(re.findall(r'there are ways', standalone_posts2[i]['Question Body'].lower()))>0):\n",
    "        f=1\n",
    "    \n",
    "    if(len(re.findall(r'there are ways', title.lower()))>0):\n",
    "        f=1\n",
    "    \n",
    "    if(f==1):\n",
    "        standalone_posts_startwith_how2.append(standalone_posts2[i])\n",
    "      "
   ]
  },
  {
   "cell_type": "code",
   "execution_count": 54,
   "metadata": {},
   "outputs": [
    {
     "output_type": "execute_result",
     "data": {
      "text/plain": [
       "2636"
      ]
     },
     "metadata": {},
     "execution_count": 54
    }
   ],
   "source": [
    "len(standalone_posts_startwith_how2)"
   ]
  },
  {
   "cell_type": "code",
   "execution_count": 58,
   "metadata": {},
   "outputs": [],
   "source": [
    "app = standalone_posts_startwith_how1.extend(standalone_posts_startwith_how2)"
   ]
  },
  {
   "cell_type": "code",
   "execution_count": 59,
   "metadata": {},
   "outputs": [
    {
     "output_type": "execute_result",
     "data": {
      "text/plain": [
       "7540"
      ]
     },
     "metadata": {},
     "execution_count": 59
    }
   ],
   "source": [
    "len(standalone_posts_startwith_how1)"
   ]
  },
  {
   "cell_type": "code",
   "execution_count": 60,
   "metadata": {},
   "outputs": [],
   "source": [
    "ids = {}\n",
    "\n",
    "final = []\n",
    "\n",
    "for i in range(len(standalone_posts_startwith_how1)):\n",
    "    if(standalone_posts_startwith_how1[i]['Id'] not in ids.keys()):\n",
    "        final.append(standalone_posts_startwith_how1[i])\n",
    "        ids[standalone_posts_startwith_how1[i]['Id']] = 1"
   ]
  },
  {
   "cell_type": "code",
   "execution_count": 61,
   "metadata": {},
   "outputs": [
    {
     "output_type": "execute_result",
     "data": {
      "text/plain": [
       "6767"
      ]
     },
     "metadata": {},
     "execution_count": 61
    }
   ],
   "source": [
    "len(final)"
   ]
  },
  {
   "cell_type": "code",
   "execution_count": 63,
   "metadata": {},
   "outputs": [],
   "source": [
    "pickle.dump(final, open('filtered2.txt', 'wb'))"
   ]
  },
  {
   "cell_type": "code",
   "execution_count": null,
   "metadata": {},
   "outputs": [],
   "source": []
  }
 ],
 "metadata": {
  "kernelspec": {
   "display_name": "Python 3",
   "language": "python",
   "name": "python3"
  },
  "language_info": {
   "codemirror_mode": {
    "name": "ipython",
    "version": 3
   },
   "file_extension": ".py",
   "mimetype": "text/x-python",
   "name": "python",
   "nbconvert_exporter": "python",
   "pygments_lexer": "ipython3",
   "version": "3.8.3-final"
  }
 },
 "nbformat": 4,
 "nbformat_minor": 4
}