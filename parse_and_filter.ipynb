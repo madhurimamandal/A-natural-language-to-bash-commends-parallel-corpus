{
 "metadata": {
  "language_info": {
   "codemirror_mode": {
    "name": "ipython",
    "version": 3
   },
   "file_extension": ".py",
   "mimetype": "text/x-python",
   "name": "python",
   "nbconvert_exporter": "python",
   "pygments_lexer": "ipython3",
   "version": "3.8.3-final"
  },
  "orig_nbformat": 2,
  "kernelspec": {
   "name": "python3",
   "display_name": "Python 3"
  }
 },
 "nbformat": 4,
 "nbformat_minor": 2,
 "cells": [
  {
   "cell_type": "code",
   "execution_count": 1,
   "metadata": {},
   "outputs": [
    {
     "output_type": "stream",
     "name": "stdout",
     "text": [
      "Setting bashlex grammar using file: c:\\Users\\madhu\\Desktop\\TSE Project\\bashlint\\grammar\\grammar100.txt\nBashlint grammar set up (124 utilities)\n\n"
     ]
    }
   ],
   "source": [
    "import pandas as pd\n",
    "from bashlint import data_tools\n",
    "import pickle"
   ]
  },
  {
   "cell_type": "code",
   "execution_count": 2,
   "metadata": {},
   "outputs": [],
   "source": [
    "final = pickle.load(open('Final_with_multiple_codes.txt', 'rb'))"
   ]
  },
  {
   "cell_type": "code",
   "execution_count": 3,
   "metadata": {},
   "outputs": [
    {
     "output_type": "execute_result",
     "data": {
      "text/plain": [
       "pandas.core.frame.DataFrame"
      ]
     },
     "metadata": {},
     "execution_count": 3
    }
   ],
   "source": [
    "type(final)"
   ]
  },
  {
   "cell_type": "code",
   "execution_count": 4,
   "metadata": {},
   "outputs": [
    {
     "output_type": "execute_result",
     "data": {
      "text/plain": [
       "(31505, 3)"
      ]
     },
     "metadata": {},
     "execution_count": 4
    }
   ],
   "source": [
    "final.shape"
   ]
  },
  {
   "cell_type": "code",
   "execution_count": 5,
   "metadata": {},
   "outputs": [
    {
     "output_type": "execute_result",
     "data": {
      "text/plain": [
       "                        Natural_language_description  \\\n",
       "0  use find xargs make symlinks selected files ke...   \n",
       "1                     using regular expression rm ls   \n",
       "2    pass list file names xargs checking file exists   \n",
       "\n",
       "                                               Code1  \\\n",
       "0  [mkdir -p {dirname}, # usage mklinks from to [...   \n",
       "1  [find . -maxdepth 1 -regextype posix-extended ...   \n",
       "2  [command1 |\\nxargs sh -c 'for p do [ -f \"$p\" ]...   \n",
       "\n",
       "                                               Code2  \n",
       "0                                               None  \n",
       "1  [rm file[1-9][1-9][1-9].txt file[1-9][1-9].txt\\n]  \n",
       "2  [existing_plain_readable_files_only() {\\n  per...  "
      ],
      "text/html": "<div>\n<style scoped>\n    .dataframe tbody tr th:only-of-type {\n        vertical-align: middle;\n    }\n\n    .dataframe tbody tr th {\n        vertical-align: top;\n    }\n\n    .dataframe thead th {\n        text-align: right;\n    }\n</style>\n<table border=\"1\" class=\"dataframe\">\n  <thead>\n    <tr style=\"text-align: right;\">\n      <th></th>\n      <th>Natural_language_description</th>\n      <th>Code1</th>\n      <th>Code2</th>\n    </tr>\n  </thead>\n  <tbody>\n    <tr>\n      <th>0</th>\n      <td>use find xargs make symlinks selected files ke...</td>\n      <td>[mkdir -p {dirname}, # usage mklinks from to [...</td>\n      <td>None</td>\n    </tr>\n    <tr>\n      <th>1</th>\n      <td>using regular expression rm ls</td>\n      <td>[find . -maxdepth 1 -regextype posix-extended ...</td>\n      <td>[rm file[1-9][1-9][1-9].txt file[1-9][1-9].txt\\n]</td>\n    </tr>\n    <tr>\n      <th>2</th>\n      <td>pass list file names xargs checking file exists</td>\n      <td>[command1 |\\nxargs sh -c 'for p do [ -f \"$p\" ]...</td>\n      <td>[existing_plain_readable_files_only() {\\n  per...</td>\n    </tr>\n  </tbody>\n</table>\n</div>"
     },
     "metadata": {},
     "execution_count": 5
    }
   ],
   "source": [
    "final.head(3)"
   ]
  },
  {
   "cell_type": "code",
   "execution_count": 6,
   "metadata": {},
   "outputs": [],
   "source": [
    "#TAKING A SAMPLE CODE TO TEST THE PARSER\n",
    "\n",
    "sample_code = final.Code1.values[1]"
   ]
  },
  {
   "cell_type": "code",
   "execution_count": 7,
   "metadata": {},
   "outputs": [
    {
     "output_type": "execute_result",
     "data": {
      "text/plain": [
       "[\"find . -maxdepth 1 -regextype posix-extended -regex '.*/file[1-9]{2,3}.txt' -delete\\n\"]"
      ]
     },
     "metadata": {},
     "execution_count": 7
    }
   ],
   "source": [
    "sample_code"
   ]
  },
  {
   "cell_type": "code",
   "execution_count": 8,
   "metadata": {},
   "outputs": [
    {
     "output_type": "execute_result",
     "data": {
      "text/plain": [
       "list"
      ]
     },
     "metadata": {},
     "execution_count": 8
    }
   ],
   "source": [
    "type(sample_code)"
   ]
  },
  {
   "cell_type": "code",
   "execution_count": 9,
   "metadata": {},
   "outputs": [
    {
     "output_type": "stream",
     "name": "stdout",
     "text": [
      "ROOT()\n    UTILITY(find)\n        ARGUMENT(.)<Path>\n        FLAG(-maxdepth)\n            ARGUMENT(1)<Quantity>\n        FLAG(-regextype)\n            ARGUMENT(posix-extended)<Type>\n        FLAG(-regex)\n            ARGUMENT('.*/file[1-9]{2,3}.txt')<Regex>\n        FLAG(-delete)\n"
     ]
    }
   ],
   "source": [
    "#PARSING USING BASHLINT\n",
    "\n",
    "cmd_ast = data_tools.bash_parser(sample_code[0])\n",
    "\n",
    "data_tools.pretty_print(cmd_ast)"
   ]
  },
  {
   "cell_type": "code",
   "execution_count": 10,
   "metadata": {},
   "outputs": [
    {
     "output_type": "execute_result",
     "data": {
      "text/plain": [
       "{'find'}"
      ]
     },
     "metadata": {},
     "execution_count": 10
    }
   ],
   "source": [
    "#RETURNS ALL THE UTILITIES IN THE CODE\n",
    "\n",
    "data_tools.get_utilities(cmd_ast)"
   ]
  },
  {
   "cell_type": "code",
   "execution_count": 11,
   "metadata": {},
   "outputs": [
    {
     "output_type": "execute_result",
     "data": {
      "text/plain": [
       "['find',\n",
       " '.',\n",
       " '-maxdepth',\n",
       " '1',\n",
       " '-regextype',\n",
       " 'posix-extended',\n",
       " '-regex',\n",
       " \"'.*/file[1-9]{2,3}.txt'\",\n",
       " '-delete']"
      ]
     },
     "metadata": {},
     "execution_count": 11
    }
   ],
   "source": [
    "data_tools.ast2tokens(cmd_ast)"
   ]
  },
  {
   "cell_type": "code",
   "execution_count": 12,
   "metadata": {},
   "outputs": [
    {
     "output_type": "execute_result",
     "data": {
      "text/plain": [
       "'find Path -maxdepth Quantity -regextype posix-extended -regex Regex -delete'"
      ]
     },
     "metadata": {},
     "execution_count": 12
    }
   ],
   "source": [
    "#CLEANS THE COMMAND TO CREATE A TEMPLATE\n",
    "\n",
    "data_tools.ast2template(cmd_ast)"
   ]
  },
  {
   "cell_type": "code",
   "execution_count": 13,
   "metadata": {},
   "outputs": [
    {
     "output_type": "execute_result",
     "data": {
      "text/plain": [
       "31505"
      ]
     },
     "metadata": {},
     "execution_count": 13
    }
   ],
   "source": [
    "len(final.Code1.values)"
   ]
  },
  {
   "cell_type": "code",
   "execution_count": 14,
   "metadata": {},
   "outputs": [],
   "source": [
    "indexes = []"
   ]
  },
  {
   "cell_type": "code",
   "execution_count": 15,
   "metadata": {},
   "outputs": [],
   "source": [
    "#CLEANING THE CODES AND CONVERTING TO A TEMPLATE\n",
    "\n",
    "for i in range(len(final.Code1.values)):\n",
    "    if(final.Code1.values[i]!='None'):\n",
    "        l=[]\n",
    "        for j in range(len(final.Code1.values[i])):\n",
    "            try:\n",
    "                cmd = final.Code1.values[i][j]\n",
    "                template = data_tools.cmd2template(cmd)\n",
    "                if(len(template)>0):\n",
    "                    indexes.append(i)\n",
    "                    l.append(template)\n",
    "            except:\n",
    "                continue\n",
    "        if(len(l)==0):\n",
    "            final.Code1.values[i]='None'\n",
    "        else:\n",
    "            final.Code1.values[i]=l\n"
   ]
  },
  {
   "cell_type": "code",
   "execution_count": 16,
   "metadata": {},
   "outputs": [
    {
     "output_type": "execute_result",
     "data": {
      "text/plain": [
       "9856"
      ]
     },
     "metadata": {},
     "execution_count": 16
    }
   ],
   "source": [
    "c=0\n",
    "for i in range(len(final)):\n",
    "    if(final.Code1.values[i]==final.Code2.values[i]=='None'):\n",
    "        c=c+1\n",
    "c"
   ]
  },
  {
   "cell_type": "code",
   "execution_count": 17,
   "metadata": {},
   "outputs": [],
   "source": [
    "#CLEANING THE CODES AND CONVERTING TO A TEMPLATE\n",
    "\n",
    "for i in range(len(final.Code2.values)):\n",
    "    if(final.Code2.values[i]!='None'):\n",
    "        l=[]\n",
    "        for j in range(len(final.Code2.values[i])):\n",
    "            try:\n",
    "                cmd = final.Code2.values[i][j]\n",
    "                template = data_tools.cmd2template(cmd)\n",
    "                if(len(template)>0):\n",
    "                    indexes.append(i)\n",
    "                    l.append(template)\n",
    "            except:\n",
    "                continue\n",
    "        if(len(l)==0):\n",
    "            final.Code2.values[i]='None'\n",
    "        else:\n",
    "            final.Code2.values[i]=l\n"
   ]
  },
  {
   "cell_type": "code",
   "execution_count": 18,
   "metadata": {},
   "outputs": [
    {
     "output_type": "execute_result",
     "data": {
      "text/plain": [
       "15734"
      ]
     },
     "metadata": {},
     "execution_count": 18
    }
   ],
   "source": [
    "c=0\n",
    "for i in range(len(final)):\n",
    "    if(final.Code1.values[i]==final.Code2.values[i]=='None'):\n",
    "        c=c+1\n",
    "c"
   ]
  },
  {
   "cell_type": "code",
   "execution_count": 19,
   "metadata": {},
   "outputs": [],
   "source": [
    "indexes=list(set(indexes))"
   ]
  },
  {
   "cell_type": "code",
   "execution_count": 20,
   "metadata": {},
   "outputs": [
    {
     "output_type": "execute_result",
     "data": {
      "text/plain": [
       "15771"
      ]
     },
     "metadata": {},
     "execution_count": 20
    }
   ],
   "source": [
    "len(indexes)"
   ]
  },
  {
   "cell_type": "code",
   "execution_count": 21,
   "metadata": {},
   "outputs": [],
   "source": [
    "#REMOVING THE ONES WHICH CONTAINS MULTIPLE LINE CODES AND OTHER ELEMENTS WHICH THE PARSER CANNOT PARSE\n",
    "#TO ENSURE CLEANLINESS\n",
    "\n",
    "final=final.iloc[indexes]"
   ]
  },
  {
   "cell_type": "code",
   "execution_count": 22,
   "metadata": {},
   "outputs": [
    {
     "output_type": "execute_result",
     "data": {
      "text/plain": [
       "0"
      ]
     },
     "metadata": {},
     "execution_count": 22
    }
   ],
   "source": [
    "c=0\n",
    "for i in range(len(final)):\n",
    "    if(final.Code1.values[i]==final.Code2.values[i]=='None'):\n",
    "        c=c+1\n",
    "c"
   ]
  },
  {
   "cell_type": "code",
   "execution_count": 23,
   "metadata": {},
   "outputs": [
    {
     "output_type": "execute_result",
     "data": {
      "text/plain": [
       "15771"
      ]
     },
     "metadata": {},
     "execution_count": 23
    }
   ],
   "source": [
    "len(final)"
   ]
  },
  {
   "cell_type": "code",
   "execution_count": 24,
   "metadata": {},
   "outputs": [],
   "source": [
    "final=final.reset_index(drop=True)"
   ]
  },
  {
   "cell_type": "code",
   "execution_count": 25,
   "metadata": {},
   "outputs": [
    {
     "output_type": "execute_result",
     "data": {
      "text/plain": [
       "15771"
      ]
     },
     "metadata": {},
     "execution_count": 25
    }
   ],
   "source": [
    "len(final)"
   ]
  },
  {
   "cell_type": "code",
   "execution_count": 27,
   "metadata": {},
   "outputs": [
    {
     "output_type": "execute_result",
     "data": {
      "text/plain": [
       "                            Natural_language_description  \\\n",
       "0      use find xargs make symlinks selected files ke...   \n",
       "1                         using regular expression rm ls   \n",
       "2                        open multiple files find output   \n",
       "3                             remove files provided pipe   \n",
       "4             search word entire content directory linux   \n",
       "...                                                  ...   \n",
       "15766           backspace insert mode vi erase character   \n",
       "15767                      show user ubuntu login screen   \n",
       "15768                           enable user jobs upstart   \n",
       "15769                prevent new user anything dangerous   \n",
       "15770                        virtualbox booting usb disk   \n",
       "\n",
       "                                                   Code1  \\\n",
       "0                                   [mkdir -p Directory]   \n",
       "1      [find Path -maxdepth Quantity -regextype posix...   \n",
       "2                                    [shopt -s globstar]   \n",
       "3      [xargs -I {} rm {}, xargs -d Regex -I {} rm -f...   \n",
       "4      [grep -r Regex File, find Path -type f -exec g...   \n",
       "...                                                  ...   \n",
       "15766                                               None   \n",
       "15767                                               None   \n",
       "15768                                               None   \n",
       "15769                                               None   \n",
       "15770                                               None   \n",
       "\n",
       "                                             Code2  \n",
       "0                                             None  \n",
       "1                                   [rm File File]  \n",
       "2                                             None  \n",
       "3                                             None  \n",
       "4      [grep -R Regex File, ls -l -R | grep Regex]  \n",
       "...                                            ...  \n",
       "15766                [set Regex Regex Regex Regex]  \n",
       "15767                    [cp File File, nano File]  \n",
       "15768                                   [vim File]  \n",
       "15769           [chmod Permission File, man Regex]  \n",
       "15770                           [chown Regex File]  \n",
       "\n",
       "[15771 rows x 3 columns]"
      ],
      "text/html": "<div>\n<style scoped>\n    .dataframe tbody tr th:only-of-type {\n        vertical-align: middle;\n    }\n\n    .dataframe tbody tr th {\n        vertical-align: top;\n    }\n\n    .dataframe thead th {\n        text-align: right;\n    }\n</style>\n<table border=\"1\" class=\"dataframe\">\n  <thead>\n    <tr style=\"text-align: right;\">\n      <th></th>\n      <th>Natural_language_description</th>\n      <th>Code1</th>\n      <th>Code2</th>\n    </tr>\n  </thead>\n  <tbody>\n    <tr>\n      <th>0</th>\n      <td>use find xargs make symlinks selected files ke...</td>\n      <td>[mkdir -p Directory]</td>\n      <td>None</td>\n    </tr>\n    <tr>\n      <th>1</th>\n      <td>using regular expression rm ls</td>\n      <td>[find Path -maxdepth Quantity -regextype posix...</td>\n      <td>[rm File File]</td>\n    </tr>\n    <tr>\n      <th>2</th>\n      <td>open multiple files find output</td>\n      <td>[shopt -s globstar]</td>\n      <td>None</td>\n    </tr>\n    <tr>\n      <th>3</th>\n      <td>remove files provided pipe</td>\n      <td>[xargs -I {} rm {}, xargs -d Regex -I {} rm -f...</td>\n      <td>None</td>\n    </tr>\n    <tr>\n      <th>4</th>\n      <td>search word entire content directory linux</td>\n      <td>[grep -r Regex File, find Path -type f -exec g...</td>\n      <td>[grep -R Regex File, ls -l -R | grep Regex]</td>\n    </tr>\n    <tr>\n      <th>...</th>\n      <td>...</td>\n      <td>...</td>\n      <td>...</td>\n    </tr>\n    <tr>\n      <th>15766</th>\n      <td>backspace insert mode vi erase character</td>\n      <td>None</td>\n      <td>[set Regex Regex Regex Regex]</td>\n    </tr>\n    <tr>\n      <th>15767</th>\n      <td>show user ubuntu login screen</td>\n      <td>None</td>\n      <td>[cp File File, nano File]</td>\n    </tr>\n    <tr>\n      <th>15768</th>\n      <td>enable user jobs upstart</td>\n      <td>None</td>\n      <td>[vim File]</td>\n    </tr>\n    <tr>\n      <th>15769</th>\n      <td>prevent new user anything dangerous</td>\n      <td>None</td>\n      <td>[chmod Permission File, man Regex]</td>\n    </tr>\n    <tr>\n      <th>15770</th>\n      <td>virtualbox booting usb disk</td>\n      <td>None</td>\n      <td>[chown Regex File]</td>\n    </tr>\n  </tbody>\n</table>\n<p>15771 rows × 3 columns</p>\n</div>"
     },
     "metadata": {},
     "execution_count": 27
    }
   ],
   "source": [
    "final"
   ]
  },
  {
   "cell_type": "code",
   "execution_count": 28,
   "metadata": {},
   "outputs": [],
   "source": [
    "#DATASET WITH POSSIBLY MULTIPLE CODES PER EXAMPLE(NOISY)\n",
    "\n",
    "pickle.dump(final, open('Dataset_multiple.csv', 'wb'))"
   ]
  },
  {
   "cell_type": "code",
   "execution_count": 29,
   "metadata": {},
   "outputs": [],
   "source": [
    "#FINDING EXAMPLES WHICH WILL GIVE US SINGLE CODES\n",
    "\n",
    "\n",
    "index_sing=[]\n",
    "for i in range(len(final)):\n",
    "    if((final.Code1.values[i]!=None and len(final.Code1.values[i])==1) or (final.Code2.values[i]!=None and len(final.Code2.values[i])==1)):\n",
    "        index_sing.append(i)"
   ]
  },
  {
   "cell_type": "code",
   "execution_count": 30,
   "metadata": {},
   "outputs": [
    {
     "output_type": "execute_result",
     "data": {
      "text/plain": [
       "10260"
      ]
     },
     "metadata": {},
     "execution_count": 30
    }
   ],
   "source": [
    "len(index_sing)"
   ]
  },
  {
   "cell_type": "code",
   "execution_count": 31,
   "metadata": {},
   "outputs": [],
   "source": [
    "final=final.iloc[index_sing]"
   ]
  },
  {
   "cell_type": "code",
   "execution_count": 32,
   "metadata": {},
   "outputs": [],
   "source": [
    "final=final.reset_index(drop=None)"
   ]
  },
  {
   "cell_type": "code",
   "execution_count": 33,
   "metadata": {},
   "outputs": [
    {
     "output_type": "execute_result",
     "data": {
      "text/plain": [
       "       index                       Natural_language_description  \\\n",
       "0          0  use find xargs make symlinks selected files ke...   \n",
       "1          1                     using regular expression rm ls   \n",
       "2          2                    open multiple files find output   \n",
       "3          5  create md hash recursive file listing paths sp...   \n",
       "4          7                          delete files filtered awk   \n",
       "...      ...                                                ...   \n",
       "10255  15761  criteria user background become login backgrou...   \n",
       "10256  15764                           set new xdg open setting   \n",
       "10257  15766           backspace insert mode vi erase character   \n",
       "10258  15768                           enable user jobs upstart   \n",
       "10259  15770                        virtualbox booting usb disk   \n",
       "\n",
       "                                                   Code1  \\\n",
       "0                                   [mkdir -p Directory]   \n",
       "1      [find Path -maxdepth Quantity -regextype posix...   \n",
       "2                                    [shopt -s globstar]   \n",
       "3                     [find Path -type f -exec md5 {} +]   \n",
       "4      [ls -l | awk Program | xargs -I {} rm {}, find...   \n",
       "...                                                  ...   \n",
       "10255                                               None   \n",
       "10256                                               None   \n",
       "10257                                               None   \n",
       "10258                                               None   \n",
       "10259                                               None   \n",
       "\n",
       "                                                   Code2  \n",
       "0                                                   None  \n",
       "1                                         [rm File File]  \n",
       "2                                                   None  \n",
       "3                                                   None  \n",
       "4      [find Path -name Regex -or -type d -prune -or ...  \n",
       "...                                                  ...  \n",
       "10255                         [chmod -R Permission File]  \n",
       "10256                  [grep Regex -l -r File File File]  \n",
       "10257                      [set Regex Regex Regex Regex]  \n",
       "10258                                         [vim File]  \n",
       "10259                                 [chown Regex File]  \n",
       "\n",
       "[10260 rows x 4 columns]"
      ],
      "text/html": "<div>\n<style scoped>\n    .dataframe tbody tr th:only-of-type {\n        vertical-align: middle;\n    }\n\n    .dataframe tbody tr th {\n        vertical-align: top;\n    }\n\n    .dataframe thead th {\n        text-align: right;\n    }\n</style>\n<table border=\"1\" class=\"dataframe\">\n  <thead>\n    <tr style=\"text-align: right;\">\n      <th></th>\n      <th>index</th>\n      <th>Natural_language_description</th>\n      <th>Code1</th>\n      <th>Code2</th>\n    </tr>\n  </thead>\n  <tbody>\n    <tr>\n      <th>0</th>\n      <td>0</td>\n      <td>use find xargs make symlinks selected files ke...</td>\n      <td>[mkdir -p Directory]</td>\n      <td>None</td>\n    </tr>\n    <tr>\n      <th>1</th>\n      <td>1</td>\n      <td>using regular expression rm ls</td>\n      <td>[find Path -maxdepth Quantity -regextype posix...</td>\n      <td>[rm File File]</td>\n    </tr>\n    <tr>\n      <th>2</th>\n      <td>2</td>\n      <td>open multiple files find output</td>\n      <td>[shopt -s globstar]</td>\n      <td>None</td>\n    </tr>\n    <tr>\n      <th>3</th>\n      <td>5</td>\n      <td>create md hash recursive file listing paths sp...</td>\n      <td>[find Path -type f -exec md5 {} +]</td>\n      <td>None</td>\n    </tr>\n    <tr>\n      <th>4</th>\n      <td>7</td>\n      <td>delete files filtered awk</td>\n      <td>[ls -l | awk Program | xargs -I {} rm {}, find...</td>\n      <td>[find Path -name Regex -or -type d -prune -or ...</td>\n    </tr>\n    <tr>\n      <th>...</th>\n      <td>...</td>\n      <td>...</td>\n      <td>...</td>\n      <td>...</td>\n    </tr>\n    <tr>\n      <th>10255</th>\n      <td>15761</td>\n      <td>criteria user background become login backgrou...</td>\n      <td>None</td>\n      <td>[chmod -R Permission File]</td>\n    </tr>\n    <tr>\n      <th>10256</th>\n      <td>15764</td>\n      <td>set new xdg open setting</td>\n      <td>None</td>\n      <td>[grep Regex -l -r File File File]</td>\n    </tr>\n    <tr>\n      <th>10257</th>\n      <td>15766</td>\n      <td>backspace insert mode vi erase character</td>\n      <td>None</td>\n      <td>[set Regex Regex Regex Regex]</td>\n    </tr>\n    <tr>\n      <th>10258</th>\n      <td>15768</td>\n      <td>enable user jobs upstart</td>\n      <td>None</td>\n      <td>[vim File]</td>\n    </tr>\n    <tr>\n      <th>10259</th>\n      <td>15770</td>\n      <td>virtualbox booting usb disk</td>\n      <td>None</td>\n      <td>[chown Regex File]</td>\n    </tr>\n  </tbody>\n</table>\n<p>10260 rows × 4 columns</p>\n</div>"
     },
     "metadata": {},
     "execution_count": 33
    }
   ],
   "source": [
    "final"
   ]
  },
  {
   "cell_type": "code",
   "execution_count": 34,
   "metadata": {},
   "outputs": [],
   "source": [
    "for i in range(len(final)):\n",
    "    if(len(final.Code1.values[i])>1):\n",
    "        final.Code1.values[i]='None'\n",
    "    if(len(final.Code2.values[i])>1):\n",
    "        final.Code2.values[i]='None'\n",
    "    "
   ]
  },
  {
   "cell_type": "code",
   "execution_count": 35,
   "metadata": {},
   "outputs": [
    {
     "output_type": "execute_result",
     "data": {
      "text/plain": [
       "0"
      ]
     },
     "metadata": {},
     "execution_count": 35
    }
   ],
   "source": [
    "c=0\n",
    "for i in range(len(final)):\n",
    "    if(final.Code1.values[i]==final.Code2.values[i]=='None'):\n",
    "        c=c+1\n",
    "c"
   ]
  },
  {
   "cell_type": "code",
   "execution_count": 36,
   "metadata": {},
   "outputs": [
    {
     "output_type": "execute_result",
     "data": {
      "text/plain": [
       "       index                       Natural_language_description  \\\n",
       "0          0  use find xargs make symlinks selected files ke...   \n",
       "1          1                     using regular expression rm ls   \n",
       "2          2                    open multiple files find output   \n",
       "3          5  create md hash recursive file listing paths sp...   \n",
       "4          7                          delete files filtered awk   \n",
       "...      ...                                                ...   \n",
       "10255  15761  criteria user background become login backgrou...   \n",
       "10256  15764                           set new xdg open setting   \n",
       "10257  15766           backspace insert mode vi erase character   \n",
       "10258  15768                           enable user jobs upstart   \n",
       "10259  15770                        virtualbox booting usb disk   \n",
       "\n",
       "                                                   Code1  \\\n",
       "0                                   [mkdir -p Directory]   \n",
       "1      [find Path -maxdepth Quantity -regextype posix...   \n",
       "2                                    [shopt -s globstar]   \n",
       "3                     [find Path -type f -exec md5 {} +]   \n",
       "4                                                   None   \n",
       "...                                                  ...   \n",
       "10255                                               None   \n",
       "10256                                               None   \n",
       "10257                                               None   \n",
       "10258                                               None   \n",
       "10259                                               None   \n",
       "\n",
       "                                                   Code2  \n",
       "0                                                   None  \n",
       "1                                         [rm File File]  \n",
       "2                                                   None  \n",
       "3                                                   None  \n",
       "4      [find Path -name Regex -or -type d -prune -or ...  \n",
       "...                                                  ...  \n",
       "10255                         [chmod -R Permission File]  \n",
       "10256                  [grep Regex -l -r File File File]  \n",
       "10257                      [set Regex Regex Regex Regex]  \n",
       "10258                                         [vim File]  \n",
       "10259                                 [chown Regex File]  \n",
       "\n",
       "[10260 rows x 4 columns]"
      ],
      "text/html": "<div>\n<style scoped>\n    .dataframe tbody tr th:only-of-type {\n        vertical-align: middle;\n    }\n\n    .dataframe tbody tr th {\n        vertical-align: top;\n    }\n\n    .dataframe thead th {\n        text-align: right;\n    }\n</style>\n<table border=\"1\" class=\"dataframe\">\n  <thead>\n    <tr style=\"text-align: right;\">\n      <th></th>\n      <th>index</th>\n      <th>Natural_language_description</th>\n      <th>Code1</th>\n      <th>Code2</th>\n    </tr>\n  </thead>\n  <tbody>\n    <tr>\n      <th>0</th>\n      <td>0</td>\n      <td>use find xargs make symlinks selected files ke...</td>\n      <td>[mkdir -p Directory]</td>\n      <td>None</td>\n    </tr>\n    <tr>\n      <th>1</th>\n      <td>1</td>\n      <td>using regular expression rm ls</td>\n      <td>[find Path -maxdepth Quantity -regextype posix...</td>\n      <td>[rm File File]</td>\n    </tr>\n    <tr>\n      <th>2</th>\n      <td>2</td>\n      <td>open multiple files find output</td>\n      <td>[shopt -s globstar]</td>\n      <td>None</td>\n    </tr>\n    <tr>\n      <th>3</th>\n      <td>5</td>\n      <td>create md hash recursive file listing paths sp...</td>\n      <td>[find Path -type f -exec md5 {} +]</td>\n      <td>None</td>\n    </tr>\n    <tr>\n      <th>4</th>\n      <td>7</td>\n      <td>delete files filtered awk</td>\n      <td>None</td>\n      <td>[find Path -name Regex -or -type d -prune -or ...</td>\n    </tr>\n    <tr>\n      <th>...</th>\n      <td>...</td>\n      <td>...</td>\n      <td>...</td>\n      <td>...</td>\n    </tr>\n    <tr>\n      <th>10255</th>\n      <td>15761</td>\n      <td>criteria user background become login backgrou...</td>\n      <td>None</td>\n      <td>[chmod -R Permission File]</td>\n    </tr>\n    <tr>\n      <th>10256</th>\n      <td>15764</td>\n      <td>set new xdg open setting</td>\n      <td>None</td>\n      <td>[grep Regex -l -r File File File]</td>\n    </tr>\n    <tr>\n      <th>10257</th>\n      <td>15766</td>\n      <td>backspace insert mode vi erase character</td>\n      <td>None</td>\n      <td>[set Regex Regex Regex Regex]</td>\n    </tr>\n    <tr>\n      <th>10258</th>\n      <td>15768</td>\n      <td>enable user jobs upstart</td>\n      <td>None</td>\n      <td>[vim File]</td>\n    </tr>\n    <tr>\n      <th>10259</th>\n      <td>15770</td>\n      <td>virtualbox booting usb disk</td>\n      <td>None</td>\n      <td>[chown Regex File]</td>\n    </tr>\n  </tbody>\n</table>\n<p>10260 rows × 4 columns</p>\n</div>"
     },
     "metadata": {},
     "execution_count": 36
    }
   ],
   "source": [
    "final"
   ]
  },
  {
   "cell_type": "code",
   "execution_count": 37,
   "metadata": {},
   "outputs": [],
   "source": [
    "#CLEAN DATA\n",
    "\n",
    "final_2 = {'Natural_language_description':[], 'Code':[]}"
   ]
  },
  {
   "cell_type": "code",
   "execution_count": 38,
   "metadata": {},
   "outputs": [],
   "source": [
    "for i in range(len(final)):\n",
    "    final_2['Natural_language_description'].append(final.Natural_language_description.values[i])\n",
    "    if(final.Code1.values[i]!='None'):\n",
    "        final_2['Code'].append(final.Code1.values[i][0])\n",
    "    else:\n",
    "        final_2['Code'].append(final.Code2.values[i][0])"
   ]
  },
  {
   "cell_type": "code",
   "execution_count": 39,
   "metadata": {},
   "outputs": [],
   "source": [
    "final_2=pd.DataFrame.from_dict(final_2)"
   ]
  },
  {
   "cell_type": "code",
   "execution_count": 40,
   "metadata": {},
   "outputs": [
    {
     "output_type": "execute_result",
     "data": {
      "text/plain": [
       "0"
      ]
     },
     "metadata": {},
     "execution_count": 40
    }
   ],
   "source": [
    "c=0\n",
    "for i in range(len(final_2)):\n",
    "    if(final_2.Code.values[i]=='None'):\n",
    "        c=c+1\n",
    "c"
   ]
  },
  {
   "cell_type": "code",
   "execution_count": 41,
   "metadata": {},
   "outputs": [
    {
     "output_type": "execute_result",
     "data": {
      "text/plain": [
       "                            Natural_language_description  \\\n",
       "0      use find xargs make symlinks selected files ke...   \n",
       "1                         using regular expression rm ls   \n",
       "2                        open multiple files find output   \n",
       "3      create md hash recursive file listing paths sp...   \n",
       "4                              delete files filtered awk   \n",
       "...                                                  ...   \n",
       "10255  criteria user background become login backgrou...   \n",
       "10256                           set new xdg open setting   \n",
       "10257           backspace insert mode vi erase character   \n",
       "10258                           enable user jobs upstart   \n",
       "10259                        virtualbox booting usb disk   \n",
       "\n",
       "                                                    Code  \n",
       "0                                     mkdir -p Directory  \n",
       "1      find Path -maxdepth Quantity -regextype posix-...  \n",
       "2                                      shopt -s globstar  \n",
       "3                       find Path -type f -exec md5 {} +  \n",
       "4      find Path -name Regex -or -type d -prune -or -...  \n",
       "...                                                  ...  \n",
       "10255                           chmod -R Permission File  \n",
       "10256                    grep Regex -l -r File File File  \n",
       "10257                        set Regex Regex Regex Regex  \n",
       "10258                                           vim File  \n",
       "10259                                   chown Regex File  \n",
       "\n",
       "[10260 rows x 2 columns]"
      ],
      "text/html": "<div>\n<style scoped>\n    .dataframe tbody tr th:only-of-type {\n        vertical-align: middle;\n    }\n\n    .dataframe tbody tr th {\n        vertical-align: top;\n    }\n\n    .dataframe thead th {\n        text-align: right;\n    }\n</style>\n<table border=\"1\" class=\"dataframe\">\n  <thead>\n    <tr style=\"text-align: right;\">\n      <th></th>\n      <th>Natural_language_description</th>\n      <th>Code</th>\n    </tr>\n  </thead>\n  <tbody>\n    <tr>\n      <th>0</th>\n      <td>use find xargs make symlinks selected files ke...</td>\n      <td>mkdir -p Directory</td>\n    </tr>\n    <tr>\n      <th>1</th>\n      <td>using regular expression rm ls</td>\n      <td>find Path -maxdepth Quantity -regextype posix-...</td>\n    </tr>\n    <tr>\n      <th>2</th>\n      <td>open multiple files find output</td>\n      <td>shopt -s globstar</td>\n    </tr>\n    <tr>\n      <th>3</th>\n      <td>create md hash recursive file listing paths sp...</td>\n      <td>find Path -type f -exec md5 {} +</td>\n    </tr>\n    <tr>\n      <th>4</th>\n      <td>delete files filtered awk</td>\n      <td>find Path -name Regex -or -type d -prune -or -...</td>\n    </tr>\n    <tr>\n      <th>...</th>\n      <td>...</td>\n      <td>...</td>\n    </tr>\n    <tr>\n      <th>10255</th>\n      <td>criteria user background become login backgrou...</td>\n      <td>chmod -R Permission File</td>\n    </tr>\n    <tr>\n      <th>10256</th>\n      <td>set new xdg open setting</td>\n      <td>grep Regex -l -r File File File</td>\n    </tr>\n    <tr>\n      <th>10257</th>\n      <td>backspace insert mode vi erase character</td>\n      <td>set Regex Regex Regex Regex</td>\n    </tr>\n    <tr>\n      <th>10258</th>\n      <td>enable user jobs upstart</td>\n      <td>vim File</td>\n    </tr>\n    <tr>\n      <th>10259</th>\n      <td>virtualbox booting usb disk</td>\n      <td>chown Regex File</td>\n    </tr>\n  </tbody>\n</table>\n<p>10260 rows × 2 columns</p>\n</div>"
     },
     "metadata": {},
     "execution_count": 41
    }
   ],
   "source": [
    "final_2"
   ]
  },
  {
   "cell_type": "code",
   "execution_count": 42,
   "metadata": {},
   "outputs": [],
   "source": [
    "pickle.dump(final_2, open('Dataset.csv', 'wb'))"
   ]
  }
 ]
}